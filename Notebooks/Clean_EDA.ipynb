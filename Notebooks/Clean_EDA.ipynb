{
 "cells": [
  {
   "cell_type": "markdown",
   "metadata": {},
   "source": [
    "# Remake the EDA notebook for the streamlit app"
   ]
  },
  {
   "cell_type": "markdown",
   "metadata": {},
   "source": [
    "### Librairy imports"
   ]
  },
  {
   "cell_type": "code",
   "execution_count": 2,
   "metadata": {},
   "outputs": [],
   "source": [
    "import pandas as pd\n",
    "import numpy as np\n",
    "from matplotlib import pyplot as plt\n",
    "import scipy as sp\n",
    "import plotly.express as xp"
   ]
  },
  {
   "cell_type": "markdown",
   "metadata": {},
   "source": [
    "### Load the cleaned csv file"
   ]
  },
  {
   "cell_type": "code",
   "execution_count": 3,
   "metadata": {},
   "outputs": [
    {
     "name": "stderr",
     "output_type": "stream",
     "text": [
      "C:\\Users\\Ronan\\AppData\\Local\\Temp\\ipykernel_15776\\4257909938.py:2: DtypeWarning: Columns (0,2,82,83,84,85,91,92,93,94,100,101,102,103,109,110,111,112,118,119,120,121,127,128,129,130,136,137,138,139,145,146,147,148,154,155,156,157,163,164,165,166,172,173,174,175) have mixed types. Specify dtype option on import or set low_memory=False.\n",
      "  df = pd.read_csv(\"../app/clean_dataset_legislative_2024.csv\", sep=\";\")\n"
     ]
    }
   ],
   "source": [
    "# Import the csv file\n",
    "df = pd.read_csv(\"../app/clean_dataset_legislative_2024.csv\", sep=\";\")\n",
    "\n"
   ]
  },
  {
   "cell_type": "markdown",
   "metadata": {},
   "source": [
    "## Number of candidates analysis (Univariate and Multivariate)"
   ]
  },
  {
   "cell_type": "code",
   "execution_count": 4,
   "metadata": {},
   "outputs": [
    {
     "data": {
      "text/html": [
       "<div>\n",
       "<style scoped>\n",
       "    .dataframe tbody tr th:only-of-type {\n",
       "        vertical-align: middle;\n",
       "    }\n",
       "\n",
       "    .dataframe tbody tr th {\n",
       "        vertical-align: top;\n",
       "    }\n",
       "\n",
       "    .dataframe thead th {\n",
       "        text-align: right;\n",
       "    }\n",
       "</style>\n",
       "<table border=\"1\" class=\"dataframe\">\n",
       "  <thead>\n",
       "    <tr style=\"text-align: right;\">\n",
       "      <th></th>\n",
       "      <th>Nombre_candidats</th>\n",
       "      <th>Number_of_Cities</th>\n",
       "      <th>Average_Inscrits</th>\n",
       "    </tr>\n",
       "  </thead>\n",
       "  <tbody>\n",
       "    <tr>\n",
       "      <th>0</th>\n",
       "      <td>1</td>\n",
       "      <td>14</td>\n",
       "      <td>3548.857143</td>\n",
       "    </tr>\n",
       "    <tr>\n",
       "      <th>1</th>\n",
       "      <td>2</td>\n",
       "      <td>28026</td>\n",
       "      <td>1117.415471</td>\n",
       "    </tr>\n",
       "    <tr>\n",
       "      <th>2</th>\n",
       "      <td>3</td>\n",
       "      <td>3132</td>\n",
       "      <td>1901.227011</td>\n",
       "    </tr>\n",
       "    <tr>\n",
       "      <th>3</th>\n",
       "      <td>4</td>\n",
       "      <td>174</td>\n",
       "      <td>11015.637931</td>\n",
       "    </tr>\n",
       "    <tr>\n",
       "      <th>4</th>\n",
       "      <td>5</td>\n",
       "      <td>22</td>\n",
       "      <td>46795.181818</td>\n",
       "    </tr>\n",
       "    <tr>\n",
       "      <th>5</th>\n",
       "      <td>6</td>\n",
       "      <td>8</td>\n",
       "      <td>40157.375000</td>\n",
       "    </tr>\n",
       "    <tr>\n",
       "      <th>6</th>\n",
       "      <td>7</td>\n",
       "      <td>1</td>\n",
       "      <td>87289.000000</td>\n",
       "    </tr>\n",
       "    <tr>\n",
       "      <th>7</th>\n",
       "      <td>8</td>\n",
       "      <td>8</td>\n",
       "      <td>122088.125000</td>\n",
       "    </tr>\n",
       "    <tr>\n",
       "      <th>8</th>\n",
       "      <td>9</td>\n",
       "      <td>1</td>\n",
       "      <td>68957.000000</td>\n",
       "    </tr>\n",
       "    <tr>\n",
       "      <th>9</th>\n",
       "      <td>10</td>\n",
       "      <td>1</td>\n",
       "      <td>400366.000000</td>\n",
       "    </tr>\n",
       "    <tr>\n",
       "      <th>10</th>\n",
       "      <td>11</td>\n",
       "      <td>1</td>\n",
       "      <td>93562.000000</td>\n",
       "    </tr>\n",
       "    <tr>\n",
       "      <th>11</th>\n",
       "      <td>12</td>\n",
       "      <td>2</td>\n",
       "      <td>151612.500000</td>\n",
       "    </tr>\n",
       "    <tr>\n",
       "      <th>12</th>\n",
       "      <td>13</td>\n",
       "      <td>1</td>\n",
       "      <td>122500.000000</td>\n",
       "    </tr>\n",
       "    <tr>\n",
       "      <th>13</th>\n",
       "      <td>18</td>\n",
       "      <td>1</td>\n",
       "      <td>687417.000000</td>\n",
       "    </tr>\n",
       "  </tbody>\n",
       "</table>\n",
       "</div>"
      ],
      "text/plain": [
       "    Nombre_candidats  Number_of_Cities  Average_Inscrits\n",
       "0                  1                14       3548.857143\n",
       "1                  2             28026       1117.415471\n",
       "2                  3              3132       1901.227011\n",
       "3                  4               174      11015.637931\n",
       "4                  5                22      46795.181818\n",
       "5                  6                 8      40157.375000\n",
       "6                  7                 1      87289.000000\n",
       "7                  8                 8     122088.125000\n",
       "8                  9                 1      68957.000000\n",
       "9                 10                 1     400366.000000\n",
       "10                11                 1      93562.000000\n",
       "11                12                 2     151612.500000\n",
       "12                13                 1     122500.000000\n",
       "13                18                 1     687417.000000"
      ]
     },
     "execution_count": 4,
     "metadata": {},
     "output_type": "execute_result"
    }
   ],
   "source": [
    "count_by_candidates = df.groupby(\"Nombre_candidats\").agg(\n",
    "    Number_of_Cities= (\"Libellé_commune\", \"size\"),\n",
    "    Average_Inscrits = (\"Inscrits\", \"mean\")\n",
    ").reset_index()\n",
    "count_by_candidates.head(15)"
   ]
  },
  {
   "cell_type": "code",
   "execution_count": 5,
   "metadata": {},
   "outputs": [
    {
     "data": {
      "application/vnd.plotly.v1+json": {
       "config": {
        "plotlyServerURL": "https://plot.ly"
       },
       "data": [
        {
         "alignmentgroup": "True",
         "hovertemplate": "Nombre de Candidats=%{x}<br>Number of Cities=%{y}<extra></extra>",
         "legendgroup": "",
         "marker": {
          "color": "#636efa",
          "pattern": {
           "shape": ""
          }
         },
         "name": "",
         "offsetgroup": "",
         "orientation": "v",
         "showlegend": false,
         "textposition": "auto",
         "type": "bar",
         "x": [
          1,
          2,
          3,
          4,
          5,
          6,
          7,
          8,
          9,
          10,
          11,
          12,
          13,
          18
         ],
         "xaxis": "x",
         "y": [
          14,
          28026,
          3132,
          174,
          22,
          8,
          1,
          8,
          1,
          1,
          1,
          2,
          1,
          1
         ],
         "yaxis": "y"
        }
       ],
       "layout": {
        "barmode": "relative",
        "legend": {
         "tracegroupgap": 0
        },
        "template": {
         "data": {
          "bar": [
           {
            "error_x": {
             "color": "#2a3f5f"
            },
            "error_y": {
             "color": "#2a3f5f"
            },
            "marker": {
             "line": {
              "color": "#E5ECF6",
              "width": 0.5
             },
             "pattern": {
              "fillmode": "overlay",
              "size": 10,
              "solidity": 0.2
             }
            },
            "type": "bar"
           }
          ],
          "barpolar": [
           {
            "marker": {
             "line": {
              "color": "#E5ECF6",
              "width": 0.5
             },
             "pattern": {
              "fillmode": "overlay",
              "size": 10,
              "solidity": 0.2
             }
            },
            "type": "barpolar"
           }
          ],
          "carpet": [
           {
            "aaxis": {
             "endlinecolor": "#2a3f5f",
             "gridcolor": "white",
             "linecolor": "white",
             "minorgridcolor": "white",
             "startlinecolor": "#2a3f5f"
            },
            "baxis": {
             "endlinecolor": "#2a3f5f",
             "gridcolor": "white",
             "linecolor": "white",
             "minorgridcolor": "white",
             "startlinecolor": "#2a3f5f"
            },
            "type": "carpet"
           }
          ],
          "choropleth": [
           {
            "colorbar": {
             "outlinewidth": 0,
             "ticks": ""
            },
            "type": "choropleth"
           }
          ],
          "contour": [
           {
            "colorbar": {
             "outlinewidth": 0,
             "ticks": ""
            },
            "colorscale": [
             [
              0,
              "#0d0887"
             ],
             [
              0.1111111111111111,
              "#46039f"
             ],
             [
              0.2222222222222222,
              "#7201a8"
             ],
             [
              0.3333333333333333,
              "#9c179e"
             ],
             [
              0.4444444444444444,
              "#bd3786"
             ],
             [
              0.5555555555555556,
              "#d8576b"
             ],
             [
              0.6666666666666666,
              "#ed7953"
             ],
             [
              0.7777777777777778,
              "#fb9f3a"
             ],
             [
              0.8888888888888888,
              "#fdca26"
             ],
             [
              1,
              "#f0f921"
             ]
            ],
            "type": "contour"
           }
          ],
          "contourcarpet": [
           {
            "colorbar": {
             "outlinewidth": 0,
             "ticks": ""
            },
            "type": "contourcarpet"
           }
          ],
          "heatmap": [
           {
            "colorbar": {
             "outlinewidth": 0,
             "ticks": ""
            },
            "colorscale": [
             [
              0,
              "#0d0887"
             ],
             [
              0.1111111111111111,
              "#46039f"
             ],
             [
              0.2222222222222222,
              "#7201a8"
             ],
             [
              0.3333333333333333,
              "#9c179e"
             ],
             [
              0.4444444444444444,
              "#bd3786"
             ],
             [
              0.5555555555555556,
              "#d8576b"
             ],
             [
              0.6666666666666666,
              "#ed7953"
             ],
             [
              0.7777777777777778,
              "#fb9f3a"
             ],
             [
              0.8888888888888888,
              "#fdca26"
             ],
             [
              1,
              "#f0f921"
             ]
            ],
            "type": "heatmap"
           }
          ],
          "heatmapgl": [
           {
            "colorbar": {
             "outlinewidth": 0,
             "ticks": ""
            },
            "colorscale": [
             [
              0,
              "#0d0887"
             ],
             [
              0.1111111111111111,
              "#46039f"
             ],
             [
              0.2222222222222222,
              "#7201a8"
             ],
             [
              0.3333333333333333,
              "#9c179e"
             ],
             [
              0.4444444444444444,
              "#bd3786"
             ],
             [
              0.5555555555555556,
              "#d8576b"
             ],
             [
              0.6666666666666666,
              "#ed7953"
             ],
             [
              0.7777777777777778,
              "#fb9f3a"
             ],
             [
              0.8888888888888888,
              "#fdca26"
             ],
             [
              1,
              "#f0f921"
             ]
            ],
            "type": "heatmapgl"
           }
          ],
          "histogram": [
           {
            "marker": {
             "pattern": {
              "fillmode": "overlay",
              "size": 10,
              "solidity": 0.2
             }
            },
            "type": "histogram"
           }
          ],
          "histogram2d": [
           {
            "colorbar": {
             "outlinewidth": 0,
             "ticks": ""
            },
            "colorscale": [
             [
              0,
              "#0d0887"
             ],
             [
              0.1111111111111111,
              "#46039f"
             ],
             [
              0.2222222222222222,
              "#7201a8"
             ],
             [
              0.3333333333333333,
              "#9c179e"
             ],
             [
              0.4444444444444444,
              "#bd3786"
             ],
             [
              0.5555555555555556,
              "#d8576b"
             ],
             [
              0.6666666666666666,
              "#ed7953"
             ],
             [
              0.7777777777777778,
              "#fb9f3a"
             ],
             [
              0.8888888888888888,
              "#fdca26"
             ],
             [
              1,
              "#f0f921"
             ]
            ],
            "type": "histogram2d"
           }
          ],
          "histogram2dcontour": [
           {
            "colorbar": {
             "outlinewidth": 0,
             "ticks": ""
            },
            "colorscale": [
             [
              0,
              "#0d0887"
             ],
             [
              0.1111111111111111,
              "#46039f"
             ],
             [
              0.2222222222222222,
              "#7201a8"
             ],
             [
              0.3333333333333333,
              "#9c179e"
             ],
             [
              0.4444444444444444,
              "#bd3786"
             ],
             [
              0.5555555555555556,
              "#d8576b"
             ],
             [
              0.6666666666666666,
              "#ed7953"
             ],
             [
              0.7777777777777778,
              "#fb9f3a"
             ],
             [
              0.8888888888888888,
              "#fdca26"
             ],
             [
              1,
              "#f0f921"
             ]
            ],
            "type": "histogram2dcontour"
           }
          ],
          "mesh3d": [
           {
            "colorbar": {
             "outlinewidth": 0,
             "ticks": ""
            },
            "type": "mesh3d"
           }
          ],
          "parcoords": [
           {
            "line": {
             "colorbar": {
              "outlinewidth": 0,
              "ticks": ""
             }
            },
            "type": "parcoords"
           }
          ],
          "pie": [
           {
            "automargin": true,
            "type": "pie"
           }
          ],
          "scatter": [
           {
            "fillpattern": {
             "fillmode": "overlay",
             "size": 10,
             "solidity": 0.2
            },
            "type": "scatter"
           }
          ],
          "scatter3d": [
           {
            "line": {
             "colorbar": {
              "outlinewidth": 0,
              "ticks": ""
             }
            },
            "marker": {
             "colorbar": {
              "outlinewidth": 0,
              "ticks": ""
             }
            },
            "type": "scatter3d"
           }
          ],
          "scattercarpet": [
           {
            "marker": {
             "colorbar": {
              "outlinewidth": 0,
              "ticks": ""
             }
            },
            "type": "scattercarpet"
           }
          ],
          "scattergeo": [
           {
            "marker": {
             "colorbar": {
              "outlinewidth": 0,
              "ticks": ""
             }
            },
            "type": "scattergeo"
           }
          ],
          "scattergl": [
           {
            "marker": {
             "colorbar": {
              "outlinewidth": 0,
              "ticks": ""
             }
            },
            "type": "scattergl"
           }
          ],
          "scattermapbox": [
           {
            "marker": {
             "colorbar": {
              "outlinewidth": 0,
              "ticks": ""
             }
            },
            "type": "scattermapbox"
           }
          ],
          "scatterpolar": [
           {
            "marker": {
             "colorbar": {
              "outlinewidth": 0,
              "ticks": ""
             }
            },
            "type": "scatterpolar"
           }
          ],
          "scatterpolargl": [
           {
            "marker": {
             "colorbar": {
              "outlinewidth": 0,
              "ticks": ""
             }
            },
            "type": "scatterpolargl"
           }
          ],
          "scatterternary": [
           {
            "marker": {
             "colorbar": {
              "outlinewidth": 0,
              "ticks": ""
             }
            },
            "type": "scatterternary"
           }
          ],
          "surface": [
           {
            "colorbar": {
             "outlinewidth": 0,
             "ticks": ""
            },
            "colorscale": [
             [
              0,
              "#0d0887"
             ],
             [
              0.1111111111111111,
              "#46039f"
             ],
             [
              0.2222222222222222,
              "#7201a8"
             ],
             [
              0.3333333333333333,
              "#9c179e"
             ],
             [
              0.4444444444444444,
              "#bd3786"
             ],
             [
              0.5555555555555556,
              "#d8576b"
             ],
             [
              0.6666666666666666,
              "#ed7953"
             ],
             [
              0.7777777777777778,
              "#fb9f3a"
             ],
             [
              0.8888888888888888,
              "#fdca26"
             ],
             [
              1,
              "#f0f921"
             ]
            ],
            "type": "surface"
           }
          ],
          "table": [
           {
            "cells": {
             "fill": {
              "color": "#EBF0F8"
             },
             "line": {
              "color": "white"
             }
            },
            "header": {
             "fill": {
              "color": "#C8D4E3"
             },
             "line": {
              "color": "white"
             }
            },
            "type": "table"
           }
          ]
         },
         "layout": {
          "annotationdefaults": {
           "arrowcolor": "#2a3f5f",
           "arrowhead": 0,
           "arrowwidth": 1
          },
          "autotypenumbers": "strict",
          "coloraxis": {
           "colorbar": {
            "outlinewidth": 0,
            "ticks": ""
           }
          },
          "colorscale": {
           "diverging": [
            [
             0,
             "#8e0152"
            ],
            [
             0.1,
             "#c51b7d"
            ],
            [
             0.2,
             "#de77ae"
            ],
            [
             0.3,
             "#f1b6da"
            ],
            [
             0.4,
             "#fde0ef"
            ],
            [
             0.5,
             "#f7f7f7"
            ],
            [
             0.6,
             "#e6f5d0"
            ],
            [
             0.7,
             "#b8e186"
            ],
            [
             0.8,
             "#7fbc41"
            ],
            [
             0.9,
             "#4d9221"
            ],
            [
             1,
             "#276419"
            ]
           ],
           "sequential": [
            [
             0,
             "#0d0887"
            ],
            [
             0.1111111111111111,
             "#46039f"
            ],
            [
             0.2222222222222222,
             "#7201a8"
            ],
            [
             0.3333333333333333,
             "#9c179e"
            ],
            [
             0.4444444444444444,
             "#bd3786"
            ],
            [
             0.5555555555555556,
             "#d8576b"
            ],
            [
             0.6666666666666666,
             "#ed7953"
            ],
            [
             0.7777777777777778,
             "#fb9f3a"
            ],
            [
             0.8888888888888888,
             "#fdca26"
            ],
            [
             1,
             "#f0f921"
            ]
           ],
           "sequentialminus": [
            [
             0,
             "#0d0887"
            ],
            [
             0.1111111111111111,
             "#46039f"
            ],
            [
             0.2222222222222222,
             "#7201a8"
            ],
            [
             0.3333333333333333,
             "#9c179e"
            ],
            [
             0.4444444444444444,
             "#bd3786"
            ],
            [
             0.5555555555555556,
             "#d8576b"
            ],
            [
             0.6666666666666666,
             "#ed7953"
            ],
            [
             0.7777777777777778,
             "#fb9f3a"
            ],
            [
             0.8888888888888888,
             "#fdca26"
            ],
            [
             1,
             "#f0f921"
            ]
           ]
          },
          "colorway": [
           "#636efa",
           "#EF553B",
           "#00cc96",
           "#ab63fa",
           "#FFA15A",
           "#19d3f3",
           "#FF6692",
           "#B6E880",
           "#FF97FF",
           "#FECB52"
          ],
          "font": {
           "color": "#2a3f5f"
          },
          "geo": {
           "bgcolor": "white",
           "lakecolor": "white",
           "landcolor": "#E5ECF6",
           "showlakes": true,
           "showland": true,
           "subunitcolor": "white"
          },
          "hoverlabel": {
           "align": "left"
          },
          "hovermode": "closest",
          "mapbox": {
           "style": "light"
          },
          "paper_bgcolor": "white",
          "plot_bgcolor": "#E5ECF6",
          "polar": {
           "angularaxis": {
            "gridcolor": "white",
            "linecolor": "white",
            "ticks": ""
           },
           "bgcolor": "#E5ECF6",
           "radialaxis": {
            "gridcolor": "white",
            "linecolor": "white",
            "ticks": ""
           }
          },
          "scene": {
           "xaxis": {
            "backgroundcolor": "#E5ECF6",
            "gridcolor": "white",
            "gridwidth": 2,
            "linecolor": "white",
            "showbackground": true,
            "ticks": "",
            "zerolinecolor": "white"
           },
           "yaxis": {
            "backgroundcolor": "#E5ECF6",
            "gridcolor": "white",
            "gridwidth": 2,
            "linecolor": "white",
            "showbackground": true,
            "ticks": "",
            "zerolinecolor": "white"
           },
           "zaxis": {
            "backgroundcolor": "#E5ECF6",
            "gridcolor": "white",
            "gridwidth": 2,
            "linecolor": "white",
            "showbackground": true,
            "ticks": "",
            "zerolinecolor": "white"
           }
          },
          "shapedefaults": {
           "line": {
            "color": "#2a3f5f"
           }
          },
          "ternary": {
           "aaxis": {
            "gridcolor": "white",
            "linecolor": "white",
            "ticks": ""
           },
           "baxis": {
            "gridcolor": "white",
            "linecolor": "white",
            "ticks": ""
           },
           "bgcolor": "#E5ECF6",
           "caxis": {
            "gridcolor": "white",
            "linecolor": "white",
            "ticks": ""
           }
          },
          "title": {
           "x": 0.05
          },
          "xaxis": {
           "automargin": true,
           "gridcolor": "white",
           "linecolor": "white",
           "ticks": "",
           "title": {
            "standoff": 15
           },
           "zerolinecolor": "white",
           "zerolinewidth": 2
          },
          "yaxis": {
           "automargin": true,
           "gridcolor": "white",
           "linecolor": "white",
           "ticks": "",
           "title": {
            "standoff": 15
           },
           "zerolinecolor": "white",
           "zerolinewidth": 2
          }
         }
        },
        "title": {
         "text": "Number of Cities vs. Nombre de Candidats"
        },
        "xaxis": {
         "anchor": "y",
         "domain": [
          0,
          1
         ],
         "tickangle": -45,
         "title": {
          "text": "Nombre de Candidats"
         }
        },
        "yaxis": {
         "anchor": "x",
         "domain": [
          0,
          1
         ],
         "title": {
          "text": "Number of Cities"
         }
        }
       }
      }
     },
     "metadata": {},
     "output_type": "display_data"
    }
   ],
   "source": [
    "import plotly.express as px\n",
    "\n",
    "# Assuming 'count_by_candidates' is a Pandas DataFrame\n",
    "fig = px.bar(count_by_candidates, \n",
    "            x=\"Nombre_candidats\", \n",
    "            y=\"Number_of_Cities\",\n",
    "            title=\"Number of Cities vs. Nombre de Candidats\",\n",
    "            labels={'Nombre_candidats':'Nombre de Candidats', \n",
    "            'Number_of_Cities':'Number of Cities'}\n",
    "            )\n",
    "fig.update_layout(xaxis_tickangle=-45)\n",
    "fig.show()"
   ]
  },
  {
   "cell_type": "code",
   "execution_count": 6,
   "metadata": {},
   "outputs": [
    {
     "data": {
      "text/html": [
       "<div>\n",
       "<style scoped>\n",
       "    .dataframe tbody tr th:only-of-type {\n",
       "        vertical-align: middle;\n",
       "    }\n",
       "\n",
       "    .dataframe tbody tr th {\n",
       "        vertical-align: top;\n",
       "    }\n",
       "\n",
       "    .dataframe thead th {\n",
       "        text-align: right;\n",
       "    }\n",
       "</style>\n",
       "<table border=\"1\" class=\"dataframe\">\n",
       "  <thead>\n",
       "    <tr style=\"text-align: right;\">\n",
       "      <th></th>\n",
       "      <th>index</th>\n",
       "      <th>Code_département</th>\n",
       "      <th>Libellé_département</th>\n",
       "      <th>Code_commune</th>\n",
       "      <th>Libellé_commune</th>\n",
       "      <th>Inscrits</th>\n",
       "      <th>Votants</th>\n",
       "      <th>Pourcentage_Votants</th>\n",
       "      <th>Abstentions</th>\n",
       "      <th>Pourcentage_Abstentions</th>\n",
       "      <th>...</th>\n",
       "      <th>Numéro_de_panneau_18</th>\n",
       "      <th>Nuance_candidat_18</th>\n",
       "      <th>Nom_candidat_18</th>\n",
       "      <th>Prénom_candidat_18</th>\n",
       "      <th>Sexe_candidat_18</th>\n",
       "      <th>Voix_18</th>\n",
       "      <th>Pourcentage_Voix/inscrits_18</th>\n",
       "      <th>Pourcentage_Voix/exprimés_18</th>\n",
       "      <th>Elu_18</th>\n",
       "      <th>Nombre_candidats</th>\n",
       "    </tr>\n",
       "  </thead>\n",
       "  <tbody>\n",
       "    <tr>\n",
       "      <th>0</th>\n",
       "      <td>26004</td>\n",
       "      <td>75</td>\n",
       "      <td>Paris</td>\n",
       "      <td>75056</td>\n",
       "      <td>Paris</td>\n",
       "      <td>687417</td>\n",
       "      <td>459856</td>\n",
       "      <td>66.90</td>\n",
       "      <td>227561</td>\n",
       "      <td>33.10</td>\n",
       "      <td>...</td>\n",
       "      <td>12.0</td>\n",
       "      <td>UG</td>\n",
       "      <td>ROSSET</td>\n",
       "      <td>Marine</td>\n",
       "      <td>FEMININ</td>\n",
       "      <td>21784.0</td>\n",
       "      <td>3.17</td>\n",
       "      <td>5.0</td>\n",
       "      <td>False</td>\n",
       "      <td>18</td>\n",
       "    </tr>\n",
       "    <tr>\n",
       "      <th>1</th>\n",
       "      <td>3167</td>\n",
       "      <td>13</td>\n",
       "      <td>Bouches-du-Rhône</td>\n",
       "      <td>13055</td>\n",
       "      <td>Marseille</td>\n",
       "      <td>400366</td>\n",
       "      <td>258783</td>\n",
       "      <td>64.64</td>\n",
       "      <td>141583</td>\n",
       "      <td>35.36</td>\n",
       "      <td>...</td>\n",
       "      <td>NaN</td>\n",
       "      <td>NaN</td>\n",
       "      <td>NaN</td>\n",
       "      <td>NaN</td>\n",
       "      <td>NaN</td>\n",
       "      <td>NaN</td>\n",
       "      <td>NaN</td>\n",
       "      <td>NaN</td>\n",
       "      <td>False</td>\n",
       "      <td>10</td>\n",
       "    </tr>\n",
       "    <tr>\n",
       "      <th>2</th>\n",
       "      <td>24074</td>\n",
       "      <td>69</td>\n",
       "      <td>Rhône</td>\n",
       "      <td>69123</td>\n",
       "      <td>Lyon</td>\n",
       "      <td>225440</td>\n",
       "      <td>166294</td>\n",
       "      <td>73.76</td>\n",
       "      <td>59146</td>\n",
       "      <td>26.24</td>\n",
       "      <td>...</td>\n",
       "      <td>NaN</td>\n",
       "      <td>NaN</td>\n",
       "      <td>NaN</td>\n",
       "      <td>NaN</td>\n",
       "      <td>NaN</td>\n",
       "      <td>NaN</td>\n",
       "      <td>NaN</td>\n",
       "      <td>NaN</td>\n",
       "      <td>False</td>\n",
       "      <td>8</td>\n",
       "    </tr>\n",
       "    <tr>\n",
       "      <th>3</th>\n",
       "      <td>10580</td>\n",
       "      <td>31</td>\n",
       "      <td>Haute-Garonne</td>\n",
       "      <td>31555</td>\n",
       "      <td>Toulouse</td>\n",
       "      <td>196238</td>\n",
       "      <td>135652</td>\n",
       "      <td>69.13</td>\n",
       "      <td>60586</td>\n",
       "      <td>30.87</td>\n",
       "      <td>...</td>\n",
       "      <td>NaN</td>\n",
       "      <td>NaN</td>\n",
       "      <td>NaN</td>\n",
       "      <td>NaN</td>\n",
       "      <td>NaN</td>\n",
       "      <td>NaN</td>\n",
       "      <td>NaN</td>\n",
       "      <td>NaN</td>\n",
       "      <td>False</td>\n",
       "      <td>12</td>\n",
       "    </tr>\n",
       "    <tr>\n",
       "      <th>4</th>\n",
       "      <td>11133</td>\n",
       "      <td>33</td>\n",
       "      <td>Gironde</td>\n",
       "      <td>33063</td>\n",
       "      <td>Bordeaux</td>\n",
       "      <td>166625</td>\n",
       "      <td>114734</td>\n",
       "      <td>68.86</td>\n",
       "      <td>51891</td>\n",
       "      <td>31.14</td>\n",
       "      <td>...</td>\n",
       "      <td>NaN</td>\n",
       "      <td>NaN</td>\n",
       "      <td>NaN</td>\n",
       "      <td>NaN</td>\n",
       "      <td>NaN</td>\n",
       "      <td>NaN</td>\n",
       "      <td>NaN</td>\n",
       "      <td>NaN</td>\n",
       "      <td>False</td>\n",
       "      <td>8</td>\n",
       "    </tr>\n",
       "    <tr>\n",
       "      <th>5</th>\n",
       "      <td>23522</td>\n",
       "      <td>67</td>\n",
       "      <td>Bas-Rhin</td>\n",
       "      <td>67482</td>\n",
       "      <td>Strasbourg</td>\n",
       "      <td>142722</td>\n",
       "      <td>97767</td>\n",
       "      <td>68.50</td>\n",
       "      <td>44955</td>\n",
       "      <td>31.50</td>\n",
       "      <td>...</td>\n",
       "      <td>NaN</td>\n",
       "      <td>NaN</td>\n",
       "      <td>NaN</td>\n",
       "      <td>NaN</td>\n",
       "      <td>NaN</td>\n",
       "      <td>NaN</td>\n",
       "      <td>NaN</td>\n",
       "      <td>NaN</td>\n",
       "      <td>False</td>\n",
       "      <td>8</td>\n",
       "    </tr>\n",
       "    <tr>\n",
       "      <th>6</th>\n",
       "      <td>20039</td>\n",
       "      <td>59</td>\n",
       "      <td>Nord</td>\n",
       "      <td>59350</td>\n",
       "      <td>Lille</td>\n",
       "      <td>122500</td>\n",
       "      <td>81459</td>\n",
       "      <td>66.50</td>\n",
       "      <td>41041</td>\n",
       "      <td>33.50</td>\n",
       "      <td>...</td>\n",
       "      <td>NaN</td>\n",
       "      <td>NaN</td>\n",
       "      <td>NaN</td>\n",
       "      <td>NaN</td>\n",
       "      <td>NaN</td>\n",
       "      <td>NaN</td>\n",
       "      <td>NaN</td>\n",
       "      <td>NaN</td>\n",
       "      <td>False</td>\n",
       "      <td>13</td>\n",
       "    </tr>\n",
       "    <tr>\n",
       "      <th>7</th>\n",
       "      <td>14964</td>\n",
       "      <td>44</td>\n",
       "      <td>Loire-Atlantique</td>\n",
       "      <td>44109</td>\n",
       "      <td>Nantes</td>\n",
       "      <td>106987</td>\n",
       "      <td>73390</td>\n",
       "      <td>68.60</td>\n",
       "      <td>33597</td>\n",
       "      <td>31.40</td>\n",
       "      <td>...</td>\n",
       "      <td>NaN</td>\n",
       "      <td>NaN</td>\n",
       "      <td>NaN</td>\n",
       "      <td>NaN</td>\n",
       "      <td>NaN</td>\n",
       "      <td>NaN</td>\n",
       "      <td>NaN</td>\n",
       "      <td>NaN</td>\n",
       "      <td>False</td>\n",
       "      <td>12</td>\n",
       "    </tr>\n",
       "    <tr>\n",
       "      <th>8</th>\n",
       "      <td>11688</td>\n",
       "      <td>34</td>\n",
       "      <td>Hérault</td>\n",
       "      <td>34172</td>\n",
       "      <td>Montpellier</td>\n",
       "      <td>101456</td>\n",
       "      <td>64608</td>\n",
       "      <td>63.68</td>\n",
       "      <td>36848</td>\n",
       "      <td>36.32</td>\n",
       "      <td>...</td>\n",
       "      <td>NaN</td>\n",
       "      <td>NaN</td>\n",
       "      <td>NaN</td>\n",
       "      <td>NaN</td>\n",
       "      <td>NaN</td>\n",
       "      <td>NaN</td>\n",
       "      <td>NaN</td>\n",
       "      <td>NaN</td>\n",
       "      <td>False</td>\n",
       "      <td>8</td>\n",
       "    </tr>\n",
       "    <tr>\n",
       "      <th>9</th>\n",
       "      <td>17221</td>\n",
       "      <td>51</td>\n",
       "      <td>Marne</td>\n",
       "      <td>51454</td>\n",
       "      <td>Reims</td>\n",
       "      <td>101169</td>\n",
       "      <td>59940</td>\n",
       "      <td>59.25</td>\n",
       "      <td>41229</td>\n",
       "      <td>40.75</td>\n",
       "      <td>...</td>\n",
       "      <td>NaN</td>\n",
       "      <td>NaN</td>\n",
       "      <td>NaN</td>\n",
       "      <td>NaN</td>\n",
       "      <td>NaN</td>\n",
       "      <td>NaN</td>\n",
       "      <td>NaN</td>\n",
       "      <td>NaN</td>\n",
       "      <td>False</td>\n",
       "      <td>8</td>\n",
       "    </tr>\n",
       "    <tr>\n",
       "      <th>10</th>\n",
       "      <td>16184</td>\n",
       "      <td>49</td>\n",
       "      <td>Maine-et-Loire</td>\n",
       "      <td>49007</td>\n",
       "      <td>Angers</td>\n",
       "      <td>93562</td>\n",
       "      <td>62424</td>\n",
       "      <td>66.72</td>\n",
       "      <td>31138</td>\n",
       "      <td>33.28</td>\n",
       "      <td>...</td>\n",
       "      <td>NaN</td>\n",
       "      <td>NaN</td>\n",
       "      <td>NaN</td>\n",
       "      <td>NaN</td>\n",
       "      <td>NaN</td>\n",
       "      <td>NaN</td>\n",
       "      <td>NaN</td>\n",
       "      <td>NaN</td>\n",
       "      <td>False</td>\n",
       "      <td>11</td>\n",
       "    </tr>\n",
       "    <tr>\n",
       "      <th>11</th>\n",
       "      <td>25262</td>\n",
       "      <td>72</td>\n",
       "      <td>Sarthe</td>\n",
       "      <td>72181</td>\n",
       "      <td>Le Mans</td>\n",
       "      <td>91394</td>\n",
       "      <td>57856</td>\n",
       "      <td>63.30</td>\n",
       "      <td>33538</td>\n",
       "      <td>36.70</td>\n",
       "      <td>...</td>\n",
       "      <td>NaN</td>\n",
       "      <td>NaN</td>\n",
       "      <td>NaN</td>\n",
       "      <td>NaN</td>\n",
       "      <td>NaN</td>\n",
       "      <td>NaN</td>\n",
       "      <td>NaN</td>\n",
       "      <td>NaN</td>\n",
       "      <td>False</td>\n",
       "      <td>8</td>\n",
       "    </tr>\n",
       "    <tr>\n",
       "      <th>12</th>\n",
       "      <td>29513</td>\n",
       "      <td>87</td>\n",
       "      <td>Haute-Vienne</td>\n",
       "      <td>87085</td>\n",
       "      <td>Limoges</td>\n",
       "      <td>74258</td>\n",
       "      <td>51170</td>\n",
       "      <td>68.91</td>\n",
       "      <td>23088</td>\n",
       "      <td>31.09</td>\n",
       "      <td>...</td>\n",
       "      <td>NaN</td>\n",
       "      <td>NaN</td>\n",
       "      <td>NaN</td>\n",
       "      <td>NaN</td>\n",
       "      <td>NaN</td>\n",
       "      <td>NaN</td>\n",
       "      <td>NaN</td>\n",
       "      <td>NaN</td>\n",
       "      <td>False</td>\n",
       "      <td>8</td>\n",
       "    </tr>\n",
       "    <tr>\n",
       "      <th>13</th>\n",
       "      <td>21539</td>\n",
       "      <td>63</td>\n",
       "      <td>Puy-de-Dôme</td>\n",
       "      <td>63113</td>\n",
       "      <td>Clermont-Ferrand</td>\n",
       "      <td>73641</td>\n",
       "      <td>47958</td>\n",
       "      <td>65.12</td>\n",
       "      <td>25683</td>\n",
       "      <td>34.88</td>\n",
       "      <td>...</td>\n",
       "      <td>NaN</td>\n",
       "      <td>NaN</td>\n",
       "      <td>NaN</td>\n",
       "      <td>NaN</td>\n",
       "      <td>NaN</td>\n",
       "      <td>NaN</td>\n",
       "      <td>NaN</td>\n",
       "      <td>NaN</td>\n",
       "      <td>False</td>\n",
       "      <td>8</td>\n",
       "    </tr>\n",
       "    <tr>\n",
       "      <th>14</th>\n",
       "      <td>12063</td>\n",
       "      <td>35</td>\n",
       "      <td>Ille-et-Vilaine</td>\n",
       "      <td>35238</td>\n",
       "      <td>Rennes</td>\n",
       "      <td>68957</td>\n",
       "      <td>48070</td>\n",
       "      <td>69.71</td>\n",
       "      <td>20887</td>\n",
       "      <td>30.29</td>\n",
       "      <td>...</td>\n",
       "      <td>NaN</td>\n",
       "      <td>NaN</td>\n",
       "      <td>NaN</td>\n",
       "      <td>NaN</td>\n",
       "      <td>NaN</td>\n",
       "      <td>NaN</td>\n",
       "      <td>NaN</td>\n",
       "      <td>NaN</td>\n",
       "      <td>False</td>\n",
       "      <td>9</td>\n",
       "    </tr>\n",
       "  </tbody>\n",
       "</table>\n",
       "<p>15 rows × 182 columns</p>\n",
       "</div>"
      ],
      "text/plain": [
       "    index Code_département Libellé_département Code_commune   Libellé_commune  \\\n",
       "0   26004               75               Paris        75056             Paris   \n",
       "1    3167               13    Bouches-du-Rhône        13055         Marseille   \n",
       "2   24074               69               Rhône        69123              Lyon   \n",
       "3   10580               31       Haute-Garonne        31555          Toulouse   \n",
       "4   11133               33             Gironde        33063          Bordeaux   \n",
       "5   23522               67            Bas-Rhin        67482        Strasbourg   \n",
       "6   20039               59                Nord        59350             Lille   \n",
       "7   14964               44    Loire-Atlantique        44109            Nantes   \n",
       "8   11688               34             Hérault        34172       Montpellier   \n",
       "9   17221               51               Marne        51454             Reims   \n",
       "10  16184               49      Maine-et-Loire        49007            Angers   \n",
       "11  25262               72              Sarthe        72181           Le Mans   \n",
       "12  29513               87        Haute-Vienne        87085           Limoges   \n",
       "13  21539               63         Puy-de-Dôme        63113  Clermont-Ferrand   \n",
       "14  12063               35     Ille-et-Vilaine        35238            Rennes   \n",
       "\n",
       "    Inscrits  Votants  Pourcentage_Votants  Abstentions  \\\n",
       "0     687417   459856                66.90       227561   \n",
       "1     400366   258783                64.64       141583   \n",
       "2     225440   166294                73.76        59146   \n",
       "3     196238   135652                69.13        60586   \n",
       "4     166625   114734                68.86        51891   \n",
       "5     142722    97767                68.50        44955   \n",
       "6     122500    81459                66.50        41041   \n",
       "7     106987    73390                68.60        33597   \n",
       "8     101456    64608                63.68        36848   \n",
       "9     101169    59940                59.25        41229   \n",
       "10     93562    62424                66.72        31138   \n",
       "11     91394    57856                63.30        33538   \n",
       "12     74258    51170                68.91        23088   \n",
       "13     73641    47958                65.12        25683   \n",
       "14     68957    48070                69.71        20887   \n",
       "\n",
       "    Pourcentage_Abstentions  ...  Numéro_de_panneau_18  Nuance_candidat_18  \\\n",
       "0                     33.10  ...                  12.0                  UG   \n",
       "1                     35.36  ...                   NaN                 NaN   \n",
       "2                     26.24  ...                   NaN                 NaN   \n",
       "3                     30.87  ...                   NaN                 NaN   \n",
       "4                     31.14  ...                   NaN                 NaN   \n",
       "5                     31.50  ...                   NaN                 NaN   \n",
       "6                     33.50  ...                   NaN                 NaN   \n",
       "7                     31.40  ...                   NaN                 NaN   \n",
       "8                     36.32  ...                   NaN                 NaN   \n",
       "9                     40.75  ...                   NaN                 NaN   \n",
       "10                    33.28  ...                   NaN                 NaN   \n",
       "11                    36.70  ...                   NaN                 NaN   \n",
       "12                    31.09  ...                   NaN                 NaN   \n",
       "13                    34.88  ...                   NaN                 NaN   \n",
       "14                    30.29  ...                   NaN                 NaN   \n",
       "\n",
       "    Nom_candidat_18  Prénom_candidat_18  Sexe_candidat_18  Voix_18  \\\n",
       "0            ROSSET              Marine           FEMININ  21784.0   \n",
       "1               NaN                 NaN               NaN      NaN   \n",
       "2               NaN                 NaN               NaN      NaN   \n",
       "3               NaN                 NaN               NaN      NaN   \n",
       "4               NaN                 NaN               NaN      NaN   \n",
       "5               NaN                 NaN               NaN      NaN   \n",
       "6               NaN                 NaN               NaN      NaN   \n",
       "7               NaN                 NaN               NaN      NaN   \n",
       "8               NaN                 NaN               NaN      NaN   \n",
       "9               NaN                 NaN               NaN      NaN   \n",
       "10              NaN                 NaN               NaN      NaN   \n",
       "11              NaN                 NaN               NaN      NaN   \n",
       "12              NaN                 NaN               NaN      NaN   \n",
       "13              NaN                 NaN               NaN      NaN   \n",
       "14              NaN                 NaN               NaN      NaN   \n",
       "\n",
       "    Pourcentage_Voix/inscrits_18  Pourcentage_Voix/exprimés_18  Elu_18  \\\n",
       "0                           3.17                           5.0   False   \n",
       "1                            NaN                           NaN   False   \n",
       "2                            NaN                           NaN   False   \n",
       "3                            NaN                           NaN   False   \n",
       "4                            NaN                           NaN   False   \n",
       "5                            NaN                           NaN   False   \n",
       "6                            NaN                           NaN   False   \n",
       "7                            NaN                           NaN   False   \n",
       "8                            NaN                           NaN   False   \n",
       "9                            NaN                           NaN   False   \n",
       "10                           NaN                           NaN   False   \n",
       "11                           NaN                           NaN   False   \n",
       "12                           NaN                           NaN   False   \n",
       "13                           NaN                           NaN   False   \n",
       "14                           NaN                           NaN   False   \n",
       "\n",
       "    Nombre_candidats  \n",
       "0                 18  \n",
       "1                 10  \n",
       "2                  8  \n",
       "3                 12  \n",
       "4                  8  \n",
       "5                  8  \n",
       "6                 13  \n",
       "7                 12  \n",
       "8                  8  \n",
       "9                  8  \n",
       "10                11  \n",
       "11                 8  \n",
       "12                 8  \n",
       "13                 8  \n",
       "14                 9  \n",
       "\n",
       "[15 rows x 182 columns]"
      ]
     },
     "execution_count": 6,
     "metadata": {},
     "output_type": "execute_result"
    }
   ],
   "source": [
    "# Most second turn confrontations that happen are either duels or triangles followed by 4 candidates\n",
    "df_filtered = df[df[\"Nombre_candidats\"] > 7].sort_values(by=\"Inscrits\", ascending=False).reset_index()\n",
    "df_filtered.head(15)"
   ]
  },
  {
   "cell_type": "markdown",
   "metadata": {},
   "source": [
    "### Add the region column"
   ]
  },
  {
   "cell_type": "code",
   "execution_count": 7,
   "metadata": {},
   "outputs": [],
   "source": [
    "# Use mapping to add the regions of the departement\n",
    "departements_regions = {\n",
    "    \"01\": \"Auvergne-Rhône-Alpes\",\n",
    "    \"02\": \"Hauts-de-France\",\n",
    "    \"03\": \"Auvergne-Rhône-Alpes\",\n",
    "    \"04\": \"Provence-Alpes-Côte d'Azur\",\n",
    "    \"05\": \"Provence-Alpes-Côte d'Azur\",\n",
    "    \"06\": \"Provence-Alpes-Côte d'Azur\",\n",
    "    \"07\": \"Auvergne-Rhône-Alpes\",\n",
    "    \"08\": \"Grand Est\",\n",
    "    \"09\": \"Occitanie\",\n",
    "    \"10\": \"Grand Est\",\n",
    "    \"11\": \"Occitanie\",\n",
    "    \"12\": \"Occitanie\",\n",
    "    \"13\": \"Provence-Alpes-Côte d'Azur\",\n",
    "    \"14\": \"Normandie\",\n",
    "    \"15\": \"Auvergne-Rhône-Alpes\",\n",
    "    \"16\": \"Nouvelle-Aquitaine\",\n",
    "    \"17\": \"Nouvelle-Aquitaine\",\n",
    "    \"18\": \"Centre-Val de Loire\",\n",
    "    \"19\": \"Nouvelle-Aquitaine\",\n",
    "    \"2A\": \"Corse\",\n",
    "    \"2B\": \"Corse\",\n",
    "    \"21\": \"Bourgogne-Franche-Comté\",\n",
    "    \"22\": \"Bretagne\",\n",
    "    \"23\": \"Nouvelle-Aquitaine\",\n",
    "    \"24\": \"Nouvelle-Aquitaine\",\n",
    "    \"25\": \"Bourgogne-Franche-Comté\",\n",
    "    \"26\": \"Auvergne-Rhône-Alpes\",\n",
    "    \"27\": \"Normandie\",\n",
    "    \"28\": \"Centre-Val de Loire\",\n",
    "    \"29\": \"Bretagne\",\n",
    "    \"30\": \"Occitanie\",\n",
    "    \"31\": \"Occitanie\",\n",
    "    \"32\": \"Occitanie\",\n",
    "    \"33\": \"Nouvelle-Aquitaine\",\n",
    "    \"34\": \"Occitanie\",\n",
    "    \"35\": \"Bretagne\",\n",
    "    \"36\": \"Centre-Val de Loire\",\n",
    "    \"37\": \"Centre-Val de Loire\",\n",
    "    \"38\": \"Auvergne-Rhône-Alpes\",\n",
    "    \"39\": \"Bourgogne-Franche-Comté\",\n",
    "    \"40\": \"Nouvelle-Aquitaine\",\n",
    "    \"41\": \"Centre-Val de Loire\",\n",
    "    \"42\": \"Auvergne-Rhône-Alpes\",\n",
    "    \"43\": \"Auvergne-Rhône-Alpes\",\n",
    "    \"44\": \"Pays de la Loire\",\n",
    "    \"45\": \"Centre-Val de Loire\",\n",
    "    \"46\": \"Occitanie\",\n",
    "    \"47\": \"Nouvelle-Aquitaine\",\n",
    "    \"48\": \"Occitanie\",\n",
    "    \"49\": \"Pays de la Loire\",\n",
    "    \"50\": \"Normandie\",\n",
    "    \"51\": \"Grand Est\",\n",
    "    \"52\": \"Grand Est\",\n",
    "    \"53\": \"Pays de la Loire\",\n",
    "    \"54\": \"Grand Est\",\n",
    "    \"55\": \"Grand Est\",\n",
    "    \"56\": \"Bretagne\",\n",
    "    \"57\": \"Grand Est\",\n",
    "    \"58\": \"Bourgogne-Franche-Comté\",\n",
    "    \"59\": \"Hauts-de-France\",\n",
    "    \"60\": \"Hauts-de-France\",\n",
    "    \"61\": \"Normandie\",\n",
    "    \"62\": \"Hauts-de-France\",\n",
    "    \"63\": \"Auvergne-Rhône-Alpes\",\n",
    "    \"64\": \"Nouvelle-Aquitaine\",\n",
    "    \"65\": \"Occitanie\",\n",
    "    \"66\": \"Occitanie\",\n",
    "    \"67\": \"Grand Est\",\n",
    "    \"68\": \"Grand Est\",\n",
    "    \"69\": \"Auvergne-Rhône-Alpes\",\n",
    "    \"70\": \"Bourgogne-Franche-Comté\",\n",
    "    \"71\": \"Bourgogne-Franche-Comté\",\n",
    "    \"72\": \"Pays de la Loire\",\n",
    "    \"73\": \"Auvergne-Rhône-Alpes\",\n",
    "    \"74\": \"Auvergne-Rhône-Alpes\",\n",
    "    \"75\": \"Île-de-France\",\n",
    "    \"76\": \"Normandie\",\n",
    "    \"77\": \"Île-de-France\",\n",
    "    \"78\": \"Île-de-France\",\n",
    "    \"79\": \"Nouvelle-Aquitaine\",\n",
    "    \"80\": \"Hauts-de-France\",\n",
    "    \"81\": \"Occitanie\",\n",
    "    \"82\": \"Occitanie\",\n",
    "    \"83\": \"Provence-Alpes-Côte d'Azur\",\n",
    "    \"84\": \"Provence-Alpes-Côte d'Azur\",\n",
    "    \"85\": \"Pays de la Loire\",\n",
    "    \"86\": \"Nouvelle-Aquitaine\",\n",
    "    \"87\": \"Nouvelle-Aquitaine\",\n",
    "    \"88\": \"Grand Est\",\n",
    "    \"89\": \"Bourgogne-Franche-Comté\",\n",
    "    \"90\": \"Bourgogne-Franche-Comté\",\n",
    "    \"91\": \"Île-de-France\",\n",
    "    \"92\": \"Île-de-France\",\n",
    "    \"93\": \"Île-de-France\",\n",
    "    \"94\": \"Île-de-France\",\n",
    "    \"95\": \"Île-de-France\",\n",
    "    \"971\": \"Outre-Mer\",\n",
    "    \"972\": \"Outre-Mer\",\n",
    "    \"973\": \"Outre-Mer\",\n",
    "    \"974\": \"Outre-Mer\",\n",
    "    \"975\": \"Outre-Mer\",\n",
    "    \"976\": \"Outre-Mer\",\n",
    "    \"987\": \"Outre-Mer\",\n",
    "    \"988\": \"Outre-Mer\",\n",
    "    \"ZX\": \"Outre-Mer\",\n",
    "    \"ZZ\": \"Étranger\",  \n",
    "}"
   ]
  },
  {
   "cell_type": "code",
   "execution_count": 8,
   "metadata": {},
   "outputs": [
    {
     "name": "stdout",
     "output_type": "stream",
     "text": [
      "List of the uniques_departements: ['01' '02' '03' '04' '05' '06' '07' '08' '09' '10' '11' '12' '13' '14'\n",
      " '15' '16' '17' '18' '19' '21' '22' '23' '24' '25' '26' '27' '28' '29'\n",
      " '2A' '2B' '30' '31' '32' '33' '34' '35' '36' '37' '38' '39' '40' '41'\n",
      " '42' '43' '44' '45' '46' '47' '48' '49' '50' '51' '52' '53' '54' '55'\n",
      " '56' '57' '58' '59' '60' '61' '62' '63' '64' '65' '66' '67' '68' '69'\n",
      " '70' '71' '72' '73' '74' '75' '76' '77' '78' '79' '80' '81' '82' '83'\n",
      " '84' '85' '86' '87' '88' '89' '90' '91' '92' '93' '94' '95' '971' '972'\n",
      " '973' '974' '975' '976' '987' '988' 'ZX' 'ZZ']\n",
      "List of the unique_regions: ['Auvergne-Rhône-Alpes' 'Hauts-de-France' \"Provence-Alpes-Côte d'Azur\"\n",
      " 'Grand Est' 'Occitanie' 'Normandie' 'Nouvelle-Aquitaine'\n",
      " 'Centre-Val de Loire' 'Bourgogne-Franche-Comté' 'Bretagne' 'Corse'\n",
      " 'Pays de la Loire' 'Île-de-France' 'Outre-Mer' 'Étranger']\n"
     ]
    }
   ],
   "source": [
    "# Adding a \"0\" value before the one digit numbers\n",
    "df[\"Code_département\"] = df[\"Code_département\"].astype(str).apply(lambda x: \"0\" + x if len(x) == 1 else x)\n",
    "uniques_departements = df[\"Code_département\"].unique()\n",
    "print(f\"List of the uniques_departements: {uniques_departements}\")\n",
    "# Create the new Region column with mapping\n",
    "df['Libellé_Région'] = df['Code_département'].map(departements_regions)\n",
    "# Display the unique regions \n",
    "unique_regions = df['Libellé_Région'].unique()\n",
    "print(f\"List of the unique_regions: {unique_regions}\")"
   ]
  },
  {
   "cell_type": "code",
   "execution_count": 9,
   "metadata": {},
   "outputs": [
    {
     "data": {
      "text/html": [
       "<div>\n",
       "<style scoped>\n",
       "    .dataframe tbody tr th:only-of-type {\n",
       "        vertical-align: middle;\n",
       "    }\n",
       "\n",
       "    .dataframe tbody tr th {\n",
       "        vertical-align: top;\n",
       "    }\n",
       "\n",
       "    .dataframe thead th {\n",
       "        text-align: right;\n",
       "    }\n",
       "</style>\n",
       "<table border=\"1\" class=\"dataframe\">\n",
       "  <thead>\n",
       "    <tr style=\"text-align: right;\">\n",
       "      <th></th>\n",
       "      <th>Nom_complet</th>\n",
       "      <th>Sexe</th>\n",
       "      <th>Nuance</th>\n",
       "      <th>Voix</th>\n",
       "      <th>Pourcentage_Voix</th>\n",
       "      <th>Elu</th>\n",
       "      <th>Région</th>\n",
       "      <th>Département</th>\n",
       "      <th>Commune</th>\n",
       "    </tr>\n",
       "  </thead>\n",
       "  <tbody>\n",
       "    <tr>\n",
       "      <th>0</th>\n",
       "      <td>COQUELET Christophe</td>\n",
       "      <td>MASCULIN</td>\n",
       "      <td>ENS</td>\n",
       "      <td>203</td>\n",
       "      <td>42.65</td>\n",
       "      <td>False</td>\n",
       "      <td>Auvergne-Rhône-Alpes</td>\n",
       "      <td>Ain</td>\n",
       "      <td>L'Abergement-Clémenciat</td>\n",
       "    </tr>\n",
       "    <tr>\n",
       "      <th>1</th>\n",
       "      <td>PISANI Florence</td>\n",
       "      <td>FEMININ</td>\n",
       "      <td>UG</td>\n",
       "      <td>93</td>\n",
       "      <td>56.02</td>\n",
       "      <td>False</td>\n",
       "      <td>Auvergne-Rhône-Alpes</td>\n",
       "      <td>Ain</td>\n",
       "      <td>L'Abergement-de-Varey</td>\n",
       "    </tr>\n",
       "    <tr>\n",
       "      <th>2</th>\n",
       "      <td>PISANI Florence</td>\n",
       "      <td>FEMININ</td>\n",
       "      <td>UG</td>\n",
       "      <td>2606</td>\n",
       "      <td>48.73</td>\n",
       "      <td>False</td>\n",
       "      <td>Auvergne-Rhône-Alpes</td>\n",
       "      <td>Ain</td>\n",
       "      <td>Ambérieu-en-Bugey</td>\n",
       "    </tr>\n",
       "    <tr>\n",
       "      <th>3</th>\n",
       "      <td>COQUELET Christophe</td>\n",
       "      <td>MASCULIN</td>\n",
       "      <td>ENS</td>\n",
       "      <td>388</td>\n",
       "      <td>41.9</td>\n",
       "      <td>False</td>\n",
       "      <td>Auvergne-Rhône-Alpes</td>\n",
       "      <td>Ain</td>\n",
       "      <td>Ambérieux-en-Dombes</td>\n",
       "    </tr>\n",
       "    <tr>\n",
       "      <th>4</th>\n",
       "      <td>GIVERNET Olga</td>\n",
       "      <td>FEMININ</td>\n",
       "      <td>ENS</td>\n",
       "      <td>32</td>\n",
       "      <td>54.24</td>\n",
       "      <td>True</td>\n",
       "      <td>Auvergne-Rhône-Alpes</td>\n",
       "      <td>Ain</td>\n",
       "      <td>Ambléon</td>\n",
       "    </tr>\n",
       "  </tbody>\n",
       "</table>\n",
       "</div>"
      ],
      "text/plain": [
       "           Nom_complet      Sexe Nuance  Voix Pourcentage_Voix    Elu  \\\n",
       "0  COQUELET Christophe  MASCULIN    ENS   203            42.65  False   \n",
       "1      PISANI Florence   FEMININ     UG    93            56.02  False   \n",
       "2      PISANI Florence   FEMININ     UG  2606            48.73  False   \n",
       "3  COQUELET Christophe  MASCULIN    ENS   388             41.9  False   \n",
       "4        GIVERNET Olga   FEMININ    ENS    32            54.24   True   \n",
       "\n",
       "                 Région Département                  Commune  \n",
       "0  Auvergne-Rhône-Alpes         Ain  L'Abergement-Clémenciat  \n",
       "1  Auvergne-Rhône-Alpes         Ain    L'Abergement-de-Varey  \n",
       "2  Auvergne-Rhône-Alpes         Ain        Ambérieu-en-Bugey  \n",
       "3  Auvergne-Rhône-Alpes         Ain      Ambérieux-en-Dombes  \n",
       "4  Auvergne-Rhône-Alpes         Ain                  Ambléon  "
      ]
     },
     "execution_count": 9,
     "metadata": {},
     "output_type": "execute_result"
    }
   ],
   "source": [
    "# Create a new dataset to store the values we wanna proceed in the analysis\n",
    "df_candidates = pd.concat([\n",
    "                                df['Nom_candidat_' + str(i)] + ' ' + \n",
    "                                df['Prénom_candidat_' + str(i)] + '#' +\n",
    "                                df['Sexe_candidat_' + str(i)] + '#' +\n",
    "                                df['Nuance_candidat_' + str(i)] + '#' +\n",
    "                                df['Voix_' + str(i)].astype(str) + '#' +\n",
    "                                df['Pourcentage_Voix/exprimés_' + str(i)].astype(str) + \"#\" +\n",
    "                                df['Elu_' + str(i)].astype(str) + '#' + \n",
    "                                df['Libellé_Région'] + '#' +\n",
    "                                df['Libellé_département'] + '#' +\n",
    "                                df['Libellé_commune'] \n",
    "                                for i in range(1, 19)], ignore_index=True)\n",
    "# Drop any NaN values\n",
    "df_candidates.dropna(inplace=True)\n",
    "# Split the combined data and keep only 'Nom_complet' and 'Sexe'\n",
    "df_candidates = df_candidates.str.split('#', expand=True)\n",
    "df_candidates.columns = ['Nom_complet', 'Sexe', 'Nuance', 'Voix', 'Pourcentage_Voix', 'Elu', 'Région', 'Département', 'Commune']\n",
    "df_candidates.head(5)"
   ]
  },
  {
   "cell_type": "code",
   "execution_count": 22,
   "metadata": {},
   "outputs": [
    {
     "name": "stdout",
     "output_type": "stream",
     "text": [
      "<class 'pandas.core.frame.DataFrame'>\n",
      "Index: 722 entries, 9357 to 103534\n",
      "Data columns (total 10 columns):\n",
      " #   Column            Non-Null Count  Dtype  \n",
      "---  ------            --------------  -----  \n",
      " 0   Nom_complet       722 non-null    object \n",
      " 1   Sexe              722 non-null    object \n",
      " 2   Nuance            722 non-null    object \n",
      " 3   Voix              722 non-null    Int32  \n",
      " 4   Pourcentage_Voix  722 non-null    Float32\n",
      " 5   Elu               722 non-null    bool   \n",
      " 6   Région            722 non-null    object \n",
      " 7   Département       722 non-null    object \n",
      " 8   Commune           722 non-null    object \n",
      " 9   Tendency          722 non-null    object \n",
      "dtypes: Float32(1), Int32(1), bool(1), object(7)\n",
      "memory usage: 52.9+ KB\n"
     ]
    },
    {
     "data": {
      "text/html": [
       "<div>\n",
       "<style scoped>\n",
       "    .dataframe tbody tr th:only-of-type {\n",
       "        vertical-align: middle;\n",
       "    }\n",
       "\n",
       "    .dataframe tbody tr th {\n",
       "        vertical-align: top;\n",
       "    }\n",
       "\n",
       "    .dataframe thead th {\n",
       "        text-align: right;\n",
       "    }\n",
       "</style>\n",
       "<table border=\"1\" class=\"dataframe\">\n",
       "  <thead>\n",
       "    <tr style=\"text-align: right;\">\n",
       "      <th></th>\n",
       "      <th>Nom_complet</th>\n",
       "      <th>Sexe</th>\n",
       "      <th>Nuance</th>\n",
       "      <th>Voix</th>\n",
       "      <th>Pourcentage_Voix</th>\n",
       "      <th>Elu</th>\n",
       "      <th>Région</th>\n",
       "      <th>Département</th>\n",
       "      <th>Commune</th>\n",
       "      <th>Tendency</th>\n",
       "    </tr>\n",
       "  </thead>\n",
       "  <tbody>\n",
       "    <tr>\n",
       "      <th>9357</th>\n",
       "      <td>MARCANGELI Laurent</td>\n",
       "      <td>MASCULIN</td>\n",
       "      <td>ENS</td>\n",
       "      <td>955</td>\n",
       "      <td>57.700001</td>\n",
       "      <td>True</td>\n",
       "      <td>Corse</td>\n",
       "      <td>Corse-du-Sud</td>\n",
       "      <td>Afa</td>\n",
       "      <td>Centre-Droite</td>\n",
       "    </tr>\n",
       "    <tr>\n",
       "      <th>9358</th>\n",
       "      <td>COLOMBANI Paul-André</td>\n",
       "      <td>MASCULIN</td>\n",
       "      <td>REG</td>\n",
       "      <td>3558</td>\n",
       "      <td>15.47</td>\n",
       "      <td>True</td>\n",
       "      <td>Corse</td>\n",
       "      <td>Corse-du-Sud</td>\n",
       "      <td>Ajaccio</td>\n",
       "      <td>Autres</td>\n",
       "    </tr>\n",
       "    <tr>\n",
       "      <th>9359</th>\n",
       "      <td>MARCANGELI Laurent</td>\n",
       "      <td>MASCULIN</td>\n",
       "      <td>ENS</td>\n",
       "      <td>1014</td>\n",
       "      <td>54.43</td>\n",
       "      <td>True</td>\n",
       "      <td>Corse</td>\n",
       "      <td>Corse-du-Sud</td>\n",
       "      <td>Alata</td>\n",
       "      <td>Centre-Droite</td>\n",
       "    </tr>\n",
       "    <tr>\n",
       "      <th>9360</th>\n",
       "      <td>COLOMBANI Paul-André</td>\n",
       "      <td>MASCULIN</td>\n",
       "      <td>REG</td>\n",
       "      <td>373</td>\n",
       "      <td>43.119999</td>\n",
       "      <td>True</td>\n",
       "      <td>Corse</td>\n",
       "      <td>Corse-du-Sud</td>\n",
       "      <td>Albitreccia</td>\n",
       "      <td>Autres</td>\n",
       "    </tr>\n",
       "    <tr>\n",
       "      <th>9361</th>\n",
       "      <td>COLOMBANI Paul-André</td>\n",
       "      <td>MASCULIN</td>\n",
       "      <td>REG</td>\n",
       "      <td>39</td>\n",
       "      <td>66.099998</td>\n",
       "      <td>True</td>\n",
       "      <td>Corse</td>\n",
       "      <td>Corse-du-Sud</td>\n",
       "      <td>Altagène</td>\n",
       "      <td>Autres</td>\n",
       "    </tr>\n",
       "  </tbody>\n",
       "</table>\n",
       "</div>"
      ],
      "text/plain": [
       "               Nom_complet      Sexe Nuance  Voix  Pourcentage_Voix   Elu  \\\n",
       "9357    MARCANGELI Laurent  MASCULIN    ENS   955         57.700001  True   \n",
       "9358  COLOMBANI Paul-André  MASCULIN    REG  3558             15.47  True   \n",
       "9359    MARCANGELI Laurent  MASCULIN    ENS  1014             54.43  True   \n",
       "9360  COLOMBANI Paul-André  MASCULIN    REG   373         43.119999  True   \n",
       "9361  COLOMBANI Paul-André  MASCULIN    REG    39         66.099998  True   \n",
       "\n",
       "     Région   Département      Commune       Tendency  \n",
       "9357  Corse  Corse-du-Sud          Afa  Centre-Droite  \n",
       "9358  Corse  Corse-du-Sud      Ajaccio         Autres  \n",
       "9359  Corse  Corse-du-Sud        Alata  Centre-Droite  \n",
       "9360  Corse  Corse-du-Sud  Albitreccia         Autres  \n",
       "9361  Corse  Corse-du-Sud     Altagène         Autres  "
      ]
     },
     "execution_count": 22,
     "metadata": {},
     "output_type": "execute_result"
    }
   ],
   "source": [
    "# transform the 'Elu' column to boolean\n",
    "df_candidates['Elu'] = df_candidates['Elu'].astype('bool')\n",
    "# transform the 'Pourcentage_Voix' column to float\n",
    "df_candidates['Pourcentage_Voix'] = df_candidates['Pourcentage_Voix'].astype('Float32')\n",
    "# transform the 'Voix' column to int\n",
    "df_candidates['Voix'] = df_candidates['Voix'].astype('Int32')\n",
    "# display the info of the dataset\n",
    "df_candidates.info()\n",
    "# display the shape of the dataset\n",
    "df_candidates.shape\n",
    "# display the dataset\n",
    "df_candidates.head(5)"
   ]
  },
  {
   "cell_type": "code",
   "execution_count": 23,
   "metadata": {},
   "outputs": [],
   "source": [
    "# Add the tendency of the candidates\n",
    "# Create a mapping for the tendency of all the parties from Gauche Radicale to Extrême Droite\n",
    "tendency_mapping = {\n",
    "    \"ENS\": \"Centre-Droite\",\n",
    "    \"UG\": \"Gauche\",\n",
    "    \"RN\": \"Extrême-Droite\",\n",
    "    \"LR\": \"Droite\",\n",
    "    \"UXD\": \"Extrême-Droite\",\n",
    "    \"DVD\": \"Droite\",\n",
    "    \"HOR\": \"Centre-Droite\",\n",
    "    \"DVC\": \"Centre\",\n",
    "    \"REG\": \"Autres\",\n",
    "    \"EXD\": \"Extrême-Droite\",\n",
    "    \"DIV\": \"Autres\",\n",
    "    \"ECO\": \"Gauche-Radicale\",\n",
    "    \"DVG\": \"Gauche\",\n",
    "    \"UDI\": \"Droite\",\n",
    "    \"SOC\": \"Gauche\",\n",
    "    \"DSV\": \"Extrême-Droite\",\n",
    "    \"FI\": \"Gauche-Radicale\"  \n",
    "}\n",
    "\n",
    "# Create the new Region column with mapping\n",
    "df_candidates['Tendency'] = df_candidates['Nuance'].map(tendency_mapping)"
   ]
  },
  {
   "cell_type": "code",
   "execution_count": 24,
   "metadata": {},
   "outputs": [],
   "source": [
    "# save the dataset to a csv file\n",
    "df_candidates.to_csv(\"../app/candidates.csv\", sep=\";\", header=True, index=False)"
   ]
  },
  {
   "cell_type": "code",
   "execution_count": 25,
   "metadata": {},
   "outputs": [
    {
     "data": {
      "text/html": [
       "<div>\n",
       "<style scoped>\n",
       "    .dataframe tbody tr th:only-of-type {\n",
       "        vertical-align: middle;\n",
       "    }\n",
       "\n",
       "    .dataframe tbody tr th {\n",
       "        vertical-align: top;\n",
       "    }\n",
       "\n",
       "    .dataframe thead th {\n",
       "        text-align: right;\n",
       "    }\n",
       "</style>\n",
       "<table border=\"1\" class=\"dataframe\">\n",
       "  <thead>\n",
       "    <tr style=\"text-align: right;\">\n",
       "      <th></th>\n",
       "      <th>Nom_complet</th>\n",
       "      <th>Sexe</th>\n",
       "      <th>Nuance</th>\n",
       "      <th>Voix</th>\n",
       "      <th>Pourcentage_Voix</th>\n",
       "      <th>Elu</th>\n",
       "      <th>Région</th>\n",
       "      <th>Département</th>\n",
       "      <th>Commune</th>\n",
       "      <th>Tendency</th>\n",
       "    </tr>\n",
       "  </thead>\n",
       "  <tbody>\n",
       "    <tr>\n",
       "      <th>9357</th>\n",
       "      <td>MARCANGELI Laurent</td>\n",
       "      <td>MASCULIN</td>\n",
       "      <td>ENS</td>\n",
       "      <td>955</td>\n",
       "      <td>57.700001</td>\n",
       "      <td>True</td>\n",
       "      <td>Corse</td>\n",
       "      <td>Corse-du-Sud</td>\n",
       "      <td>Afa</td>\n",
       "      <td>Centre-Droite</td>\n",
       "    </tr>\n",
       "    <tr>\n",
       "      <th>9358</th>\n",
       "      <td>COLOMBANI Paul-André</td>\n",
       "      <td>MASCULIN</td>\n",
       "      <td>REG</td>\n",
       "      <td>3558</td>\n",
       "      <td>15.47</td>\n",
       "      <td>True</td>\n",
       "      <td>Corse</td>\n",
       "      <td>Corse-du-Sud</td>\n",
       "      <td>Ajaccio</td>\n",
       "      <td>Autres</td>\n",
       "    </tr>\n",
       "    <tr>\n",
       "      <th>9359</th>\n",
       "      <td>MARCANGELI Laurent</td>\n",
       "      <td>MASCULIN</td>\n",
       "      <td>ENS</td>\n",
       "      <td>1014</td>\n",
       "      <td>54.43</td>\n",
       "      <td>True</td>\n",
       "      <td>Corse</td>\n",
       "      <td>Corse-du-Sud</td>\n",
       "      <td>Alata</td>\n",
       "      <td>Centre-Droite</td>\n",
       "    </tr>\n",
       "    <tr>\n",
       "      <th>9360</th>\n",
       "      <td>COLOMBANI Paul-André</td>\n",
       "      <td>MASCULIN</td>\n",
       "      <td>REG</td>\n",
       "      <td>373</td>\n",
       "      <td>43.119999</td>\n",
       "      <td>True</td>\n",
       "      <td>Corse</td>\n",
       "      <td>Corse-du-Sud</td>\n",
       "      <td>Albitreccia</td>\n",
       "      <td>Autres</td>\n",
       "    </tr>\n",
       "    <tr>\n",
       "      <th>9361</th>\n",
       "      <td>COLOMBANI Paul-André</td>\n",
       "      <td>MASCULIN</td>\n",
       "      <td>REG</td>\n",
       "      <td>39</td>\n",
       "      <td>66.099998</td>\n",
       "      <td>True</td>\n",
       "      <td>Corse</td>\n",
       "      <td>Corse-du-Sud</td>\n",
       "      <td>Altagène</td>\n",
       "      <td>Autres</td>\n",
       "    </tr>\n",
       "  </tbody>\n",
       "</table>\n",
       "</div>"
      ],
      "text/plain": [
       "               Nom_complet      Sexe Nuance  Voix  Pourcentage_Voix   Elu  \\\n",
       "9357    MARCANGELI Laurent  MASCULIN    ENS   955         57.700001  True   \n",
       "9358  COLOMBANI Paul-André  MASCULIN    REG  3558             15.47  True   \n",
       "9359    MARCANGELI Laurent  MASCULIN    ENS  1014             54.43  True   \n",
       "9360  COLOMBANI Paul-André  MASCULIN    REG   373         43.119999  True   \n",
       "9361  COLOMBANI Paul-André  MASCULIN    REG    39         66.099998  True   \n",
       "\n",
       "     Région   Département      Commune       Tendency  \n",
       "9357  Corse  Corse-du-Sud          Afa  Centre-Droite  \n",
       "9358  Corse  Corse-du-Sud      Ajaccio         Autres  \n",
       "9359  Corse  Corse-du-Sud        Alata  Centre-Droite  \n",
       "9360  Corse  Corse-du-Sud  Albitreccia         Autres  \n",
       "9361  Corse  Corse-du-Sud     Altagène         Autres  "
      ]
     },
     "execution_count": 25,
     "metadata": {},
     "output_type": "execute_result"
    }
   ],
   "source": [
    "df_candidates.head()"
   ]
  },
  {
   "cell_type": "code",
   "execution_count": 26,
   "metadata": {},
   "outputs": [
    {
     "data": {
      "text/html": [
       "<div>\n",
       "<style scoped>\n",
       "    .dataframe tbody tr th:only-of-type {\n",
       "        vertical-align: middle;\n",
       "    }\n",
       "\n",
       "    .dataframe tbody tr th {\n",
       "        vertical-align: top;\n",
       "    }\n",
       "\n",
       "    .dataframe thead th {\n",
       "        text-align: right;\n",
       "    }\n",
       "</style>\n",
       "<table border=\"1\" class=\"dataframe\">\n",
       "  <thead>\n",
       "    <tr style=\"text-align: right;\">\n",
       "      <th></th>\n",
       "      <th>Tendency</th>\n",
       "      <th>Nuance</th>\n",
       "      <th>Voix</th>\n",
       "    </tr>\n",
       "  </thead>\n",
       "  <tbody>\n",
       "    <tr>\n",
       "      <th>0</th>\n",
       "      <td>Autres</td>\n",
       "      <td>REG</td>\n",
       "      <td>69073</td>\n",
       "    </tr>\n",
       "    <tr>\n",
       "      <th>1</th>\n",
       "      <td>Centre-Droite</td>\n",
       "      <td>ENS</td>\n",
       "      <td>20893</td>\n",
       "    </tr>\n",
       "    <tr>\n",
       "      <th>2</th>\n",
       "      <td>Droite</td>\n",
       "      <td>DVD</td>\n",
       "      <td>24458</td>\n",
       "    </tr>\n",
       "    <tr>\n",
       "      <th>3</th>\n",
       "      <td>Extrême-Droite</td>\n",
       "      <td>RN</td>\n",
       "      <td>42350</td>\n",
       "    </tr>\n",
       "  </tbody>\n",
       "</table>\n",
       "</div>"
      ],
      "text/plain": [
       "         Tendency Nuance   Voix\n",
       "0          Autres    REG  69073\n",
       "1   Centre-Droite    ENS  20893\n",
       "2          Droite    DVD  24458\n",
       "3  Extrême-Droite     RN  42350"
      ]
     },
     "execution_count": 26,
     "metadata": {},
     "output_type": "execute_result"
    }
   ],
   "source": [
    "# count the number of votes for each political parties for the refion Corse\n",
    "df_candidates = df_candidates[df_candidates['Région'] == 'Corse']\n",
    "count_votes_per_party = df_candidates.groupby(['Tendency', 'Nuance'])['Voix'].sum()\n",
    "count_votes_per_party.head(count_votes_per_party.shape[0])\n",
    "# create a dataframe with the count of votes for each political parties\n",
    "votes_df = pd.DataFrame(count_votes_per_party).reset_index()\n",
    "# display the dataframe\n",
    "votes_df.head(votes_df.shape[0])\n"
   ]
  },
  {
   "cell_type": "code",
   "execution_count": 76,
   "metadata": {},
   "outputs": [
    {
     "name": "stdout",
     "output_type": "stream",
     "text": [
      "Total number of votes: 27279714\n"
     ]
    }
   ],
   "source": [
    "# add all the counts \n",
    "total_votes = count_votes_per_party.sum()\n",
    "print(f\"Total number of votes: {total_votes}\")"
   ]
  },
  {
   "cell_type": "code",
   "execution_count": 78,
   "metadata": {},
   "outputs": [
    {
     "data": {
      "text/plain": [
       "Tendency\n",
       "Autres               326227\n",
       "Centre               177167\n",
       "Centre-Droite       6571947\n",
       "Droite              2575140\n",
       "Extrême-Droite     10150933\n",
       "Gauche              7432131\n",
       "Gauche-Radicale       46169\n",
       "Name: Voix, dtype: int32"
      ]
     },
     "execution_count": 78,
     "metadata": {},
     "output_type": "execute_result"
    }
   ],
   "source": [
    "# calculate the percentage of votes for each political parties\n",
    "count_votes_per_tendency = df_candidates.groupby(['Tendency'])['Voix'].sum()\n",
    "count_votes_per_tendency.apply(lambda x: x / total_votes * 100)\n",
    "count_votes_per_tendency.head(count_votes_per_party.shape[0])"
   ]
  },
  {
   "cell_type": "code",
   "execution_count": 90,
   "metadata": {},
   "outputs": [
    {
     "data": {
      "application/vnd.plotly.v1+json": {
       "config": {
        "plotlyServerURL": "https://plot.ly"
       },
       "data": [
        {
         "alignmentgroup": "True",
         "hovertemplate": "Tendency=Gauche-Radicale<br>Nuance=%{x}<br>Voix=%{y}<extra></extra>",
         "legendgroup": "Gauche-Radicale",
         "marker": {
          "color": "#E4572E",
          "pattern": {
           "shape": ""
          }
         },
         "name": "Gauche-Radicale",
         "offsetgroup": "Gauche-Radicale",
         "orientation": "v",
         "showlegend": true,
         "textposition": "outside",
         "texttemplate": "%{y:.0f}",
         "type": "bar",
         "x": [
          "ECO",
          "FI"
         ],
         "xaxis": "x",
         "y": [
          37808,
          8361
         ],
         "yaxis": "y"
        },
        {
         "alignmentgroup": "True",
         "hovertemplate": "Tendency=Gauche<br>Nuance=%{x}<br>Voix=%{y}<extra></extra>",
         "legendgroup": "Gauche",
         "marker": {
          "color": "#FE4A49",
          "pattern": {
           "shape": ""
          }
         },
         "name": "Gauche",
         "offsetgroup": "Gauche",
         "orientation": "v",
         "showlegend": true,
         "textposition": "outside",
         "texttemplate": "%{y:.0f}",
         "type": "bar",
         "x": [
          "DVG",
          "SOC",
          "UG"
         ],
         "xaxis": "x",
         "y": [
          401063,
          26343,
          7004725
         ],
         "yaxis": "y"
        },
        {
         "alignmentgroup": "True",
         "hovertemplate": "Tendency=Centre<br>Nuance=%{x}<br>Voix=%{y}<extra></extra>",
         "legendgroup": "Centre",
         "marker": {
          "color": "#B1EDE8",
          "pattern": {
           "shape": ""
          }
         },
         "name": "Centre",
         "offsetgroup": "Centre",
         "orientation": "v",
         "showlegend": true,
         "textposition": "outside",
         "texttemplate": "%{y:.0f}",
         "type": "bar",
         "x": [
          "DVC"
         ],
         "xaxis": "x",
         "y": [
          177167
         ],
         "yaxis": "y"
        },
        {
         "alignmentgroup": "True",
         "hovertemplate": "Tendency=Centre-Droite<br>Nuance=%{x}<br>Voix=%{y}<extra></extra>",
         "legendgroup": "Centre-Droite",
         "marker": {
          "color": "#4EA5FF",
          "pattern": {
           "shape": ""
          }
         },
         "name": "Centre-Droite",
         "offsetgroup": "Centre-Droite",
         "orientation": "v",
         "showlegend": true,
         "textposition": "outside",
         "texttemplate": "%{y:.0f}",
         "type": "bar",
         "x": [
          "ENS",
          "HOR"
         ],
         "xaxis": "x",
         "y": [
          6313808,
          258139
         ],
         "yaxis": "y"
        },
        {
         "alignmentgroup": "True",
         "hovertemplate": "Tendency=Droite<br>Nuance=%{x}<br>Voix=%{y}<extra></extra>",
         "legendgroup": "Droite",
         "marker": {
          "color": "#207BFF",
          "pattern": {
           "shape": ""
          }
         },
         "name": "Droite",
         "offsetgroup": "Droite",
         "orientation": "v",
         "showlegend": true,
         "textposition": "outside",
         "texttemplate": "%{y:.0f}",
         "type": "bar",
         "x": [
          "DVD",
          "LR",
          "UDI"
         ],
         "xaxis": "x",
         "y": [
          980818,
          1474650,
          119672
         ],
         "yaxis": "y"
        },
        {
         "alignmentgroup": "True",
         "hovertemplate": "Tendency=Extrême-Droite<br>Nuance=%{x}<br>Voix=%{y}<extra></extra>",
         "legendgroup": "Extrême-Droite",
         "marker": {
          "color": "#053C5E",
          "pattern": {
           "shape": ""
          }
         },
         "name": "Extrême-Droite",
         "offsetgroup": "Extrême-Droite",
         "orientation": "v",
         "showlegend": true,
         "textposition": "outside",
         "texttemplate": "%{y:.0f}",
         "type": "bar",
         "x": [
          "DSV",
          "EXD",
          "RN",
          "UXD"
         ],
         "xaxis": "x",
         "y": [
          18672,
          23217,
          8744080,
          1364964
         ],
         "yaxis": "y"
        },
        {
         "alignmentgroup": "True",
         "hovertemplate": "Tendency=Autres<br>Nuance=%{x}<br>Voix=%{y}<extra></extra>",
         "legendgroup": "Autres",
         "marker": {
          "color": "#773344",
          "pattern": {
           "shape": ""
          }
         },
         "name": "Autres",
         "offsetgroup": "Autres",
         "orientation": "v",
         "showlegend": true,
         "textposition": "outside",
         "texttemplate": "%{y:.0f}",
         "type": "bar",
         "x": [
          "DIV",
          "REG"
         ],
         "xaxis": "x",
         "y": [
          38025,
          288202
         ],
         "yaxis": "y"
        }
       ],
       "layout": {
        "barmode": "relative",
        "legend": {
         "title": {
          "text": "Tendencies"
         },
         "tracegroupgap": 0
        },
        "plot_bgcolor": "white",
        "showlegend": true,
        "template": {
         "data": {
          "bar": [
           {
            "error_x": {
             "color": "#2a3f5f"
            },
            "error_y": {
             "color": "#2a3f5f"
            },
            "marker": {
             "line": {
              "color": "#E5ECF6",
              "width": 0.5
             },
             "pattern": {
              "fillmode": "overlay",
              "size": 10,
              "solidity": 0.2
             }
            },
            "type": "bar"
           }
          ],
          "barpolar": [
           {
            "marker": {
             "line": {
              "color": "#E5ECF6",
              "width": 0.5
             },
             "pattern": {
              "fillmode": "overlay",
              "size": 10,
              "solidity": 0.2
             }
            },
            "type": "barpolar"
           }
          ],
          "carpet": [
           {
            "aaxis": {
             "endlinecolor": "#2a3f5f",
             "gridcolor": "white",
             "linecolor": "white",
             "minorgridcolor": "white",
             "startlinecolor": "#2a3f5f"
            },
            "baxis": {
             "endlinecolor": "#2a3f5f",
             "gridcolor": "white",
             "linecolor": "white",
             "minorgridcolor": "white",
             "startlinecolor": "#2a3f5f"
            },
            "type": "carpet"
           }
          ],
          "choropleth": [
           {
            "colorbar": {
             "outlinewidth": 0,
             "ticks": ""
            },
            "type": "choropleth"
           }
          ],
          "contour": [
           {
            "colorbar": {
             "outlinewidth": 0,
             "ticks": ""
            },
            "colorscale": [
             [
              0,
              "#0d0887"
             ],
             [
              0.1111111111111111,
              "#46039f"
             ],
             [
              0.2222222222222222,
              "#7201a8"
             ],
             [
              0.3333333333333333,
              "#9c179e"
             ],
             [
              0.4444444444444444,
              "#bd3786"
             ],
             [
              0.5555555555555556,
              "#d8576b"
             ],
             [
              0.6666666666666666,
              "#ed7953"
             ],
             [
              0.7777777777777778,
              "#fb9f3a"
             ],
             [
              0.8888888888888888,
              "#fdca26"
             ],
             [
              1,
              "#f0f921"
             ]
            ],
            "type": "contour"
           }
          ],
          "contourcarpet": [
           {
            "colorbar": {
             "outlinewidth": 0,
             "ticks": ""
            },
            "type": "contourcarpet"
           }
          ],
          "heatmap": [
           {
            "colorbar": {
             "outlinewidth": 0,
             "ticks": ""
            },
            "colorscale": [
             [
              0,
              "#0d0887"
             ],
             [
              0.1111111111111111,
              "#46039f"
             ],
             [
              0.2222222222222222,
              "#7201a8"
             ],
             [
              0.3333333333333333,
              "#9c179e"
             ],
             [
              0.4444444444444444,
              "#bd3786"
             ],
             [
              0.5555555555555556,
              "#d8576b"
             ],
             [
              0.6666666666666666,
              "#ed7953"
             ],
             [
              0.7777777777777778,
              "#fb9f3a"
             ],
             [
              0.8888888888888888,
              "#fdca26"
             ],
             [
              1,
              "#f0f921"
             ]
            ],
            "type": "heatmap"
           }
          ],
          "heatmapgl": [
           {
            "colorbar": {
             "outlinewidth": 0,
             "ticks": ""
            },
            "colorscale": [
             [
              0,
              "#0d0887"
             ],
             [
              0.1111111111111111,
              "#46039f"
             ],
             [
              0.2222222222222222,
              "#7201a8"
             ],
             [
              0.3333333333333333,
              "#9c179e"
             ],
             [
              0.4444444444444444,
              "#bd3786"
             ],
             [
              0.5555555555555556,
              "#d8576b"
             ],
             [
              0.6666666666666666,
              "#ed7953"
             ],
             [
              0.7777777777777778,
              "#fb9f3a"
             ],
             [
              0.8888888888888888,
              "#fdca26"
             ],
             [
              1,
              "#f0f921"
             ]
            ],
            "type": "heatmapgl"
           }
          ],
          "histogram": [
           {
            "marker": {
             "pattern": {
              "fillmode": "overlay",
              "size": 10,
              "solidity": 0.2
             }
            },
            "type": "histogram"
           }
          ],
          "histogram2d": [
           {
            "colorbar": {
             "outlinewidth": 0,
             "ticks": ""
            },
            "colorscale": [
             [
              0,
              "#0d0887"
             ],
             [
              0.1111111111111111,
              "#46039f"
             ],
             [
              0.2222222222222222,
              "#7201a8"
             ],
             [
              0.3333333333333333,
              "#9c179e"
             ],
             [
              0.4444444444444444,
              "#bd3786"
             ],
             [
              0.5555555555555556,
              "#d8576b"
             ],
             [
              0.6666666666666666,
              "#ed7953"
             ],
             [
              0.7777777777777778,
              "#fb9f3a"
             ],
             [
              0.8888888888888888,
              "#fdca26"
             ],
             [
              1,
              "#f0f921"
             ]
            ],
            "type": "histogram2d"
           }
          ],
          "histogram2dcontour": [
           {
            "colorbar": {
             "outlinewidth": 0,
             "ticks": ""
            },
            "colorscale": [
             [
              0,
              "#0d0887"
             ],
             [
              0.1111111111111111,
              "#46039f"
             ],
             [
              0.2222222222222222,
              "#7201a8"
             ],
             [
              0.3333333333333333,
              "#9c179e"
             ],
             [
              0.4444444444444444,
              "#bd3786"
             ],
             [
              0.5555555555555556,
              "#d8576b"
             ],
             [
              0.6666666666666666,
              "#ed7953"
             ],
             [
              0.7777777777777778,
              "#fb9f3a"
             ],
             [
              0.8888888888888888,
              "#fdca26"
             ],
             [
              1,
              "#f0f921"
             ]
            ],
            "type": "histogram2dcontour"
           }
          ],
          "mesh3d": [
           {
            "colorbar": {
             "outlinewidth": 0,
             "ticks": ""
            },
            "type": "mesh3d"
           }
          ],
          "parcoords": [
           {
            "line": {
             "colorbar": {
              "outlinewidth": 0,
              "ticks": ""
             }
            },
            "type": "parcoords"
           }
          ],
          "pie": [
           {
            "automargin": true,
            "type": "pie"
           }
          ],
          "scatter": [
           {
            "fillpattern": {
             "fillmode": "overlay",
             "size": 10,
             "solidity": 0.2
            },
            "type": "scatter"
           }
          ],
          "scatter3d": [
           {
            "line": {
             "colorbar": {
              "outlinewidth": 0,
              "ticks": ""
             }
            },
            "marker": {
             "colorbar": {
              "outlinewidth": 0,
              "ticks": ""
             }
            },
            "type": "scatter3d"
           }
          ],
          "scattercarpet": [
           {
            "marker": {
             "colorbar": {
              "outlinewidth": 0,
              "ticks": ""
             }
            },
            "type": "scattercarpet"
           }
          ],
          "scattergeo": [
           {
            "marker": {
             "colorbar": {
              "outlinewidth": 0,
              "ticks": ""
             }
            },
            "type": "scattergeo"
           }
          ],
          "scattergl": [
           {
            "marker": {
             "colorbar": {
              "outlinewidth": 0,
              "ticks": ""
             }
            },
            "type": "scattergl"
           }
          ],
          "scattermapbox": [
           {
            "marker": {
             "colorbar": {
              "outlinewidth": 0,
              "ticks": ""
             }
            },
            "type": "scattermapbox"
           }
          ],
          "scatterpolar": [
           {
            "marker": {
             "colorbar": {
              "outlinewidth": 0,
              "ticks": ""
             }
            },
            "type": "scatterpolar"
           }
          ],
          "scatterpolargl": [
           {
            "marker": {
             "colorbar": {
              "outlinewidth": 0,
              "ticks": ""
             }
            },
            "type": "scatterpolargl"
           }
          ],
          "scatterternary": [
           {
            "marker": {
             "colorbar": {
              "outlinewidth": 0,
              "ticks": ""
             }
            },
            "type": "scatterternary"
           }
          ],
          "surface": [
           {
            "colorbar": {
             "outlinewidth": 0,
             "ticks": ""
            },
            "colorscale": [
             [
              0,
              "#0d0887"
             ],
             [
              0.1111111111111111,
              "#46039f"
             ],
             [
              0.2222222222222222,
              "#7201a8"
             ],
             [
              0.3333333333333333,
              "#9c179e"
             ],
             [
              0.4444444444444444,
              "#bd3786"
             ],
             [
              0.5555555555555556,
              "#d8576b"
             ],
             [
              0.6666666666666666,
              "#ed7953"
             ],
             [
              0.7777777777777778,
              "#fb9f3a"
             ],
             [
              0.8888888888888888,
              "#fdca26"
             ],
             [
              1,
              "#f0f921"
             ]
            ],
            "type": "surface"
           }
          ],
          "table": [
           {
            "cells": {
             "fill": {
              "color": "#EBF0F8"
             },
             "line": {
              "color": "white"
             }
            },
            "header": {
             "fill": {
              "color": "#C8D4E3"
             },
             "line": {
              "color": "white"
             }
            },
            "type": "table"
           }
          ]
         },
         "layout": {
          "annotationdefaults": {
           "arrowcolor": "#2a3f5f",
           "arrowhead": 0,
           "arrowwidth": 1
          },
          "autotypenumbers": "strict",
          "coloraxis": {
           "colorbar": {
            "outlinewidth": 0,
            "ticks": ""
           }
          },
          "colorscale": {
           "diverging": [
            [
             0,
             "#8e0152"
            ],
            [
             0.1,
             "#c51b7d"
            ],
            [
             0.2,
             "#de77ae"
            ],
            [
             0.3,
             "#f1b6da"
            ],
            [
             0.4,
             "#fde0ef"
            ],
            [
             0.5,
             "#f7f7f7"
            ],
            [
             0.6,
             "#e6f5d0"
            ],
            [
             0.7,
             "#b8e186"
            ],
            [
             0.8,
             "#7fbc41"
            ],
            [
             0.9,
             "#4d9221"
            ],
            [
             1,
             "#276419"
            ]
           ],
           "sequential": [
            [
             0,
             "#0d0887"
            ],
            [
             0.1111111111111111,
             "#46039f"
            ],
            [
             0.2222222222222222,
             "#7201a8"
            ],
            [
             0.3333333333333333,
             "#9c179e"
            ],
            [
             0.4444444444444444,
             "#bd3786"
            ],
            [
             0.5555555555555556,
             "#d8576b"
            ],
            [
             0.6666666666666666,
             "#ed7953"
            ],
            [
             0.7777777777777778,
             "#fb9f3a"
            ],
            [
             0.8888888888888888,
             "#fdca26"
            ],
            [
             1,
             "#f0f921"
            ]
           ],
           "sequentialminus": [
            [
             0,
             "#0d0887"
            ],
            [
             0.1111111111111111,
             "#46039f"
            ],
            [
             0.2222222222222222,
             "#7201a8"
            ],
            [
             0.3333333333333333,
             "#9c179e"
            ],
            [
             0.4444444444444444,
             "#bd3786"
            ],
            [
             0.5555555555555556,
             "#d8576b"
            ],
            [
             0.6666666666666666,
             "#ed7953"
            ],
            [
             0.7777777777777778,
             "#fb9f3a"
            ],
            [
             0.8888888888888888,
             "#fdca26"
            ],
            [
             1,
             "#f0f921"
            ]
           ]
          },
          "colorway": [
           "#636efa",
           "#EF553B",
           "#00cc96",
           "#ab63fa",
           "#FFA15A",
           "#19d3f3",
           "#FF6692",
           "#B6E880",
           "#FF97FF",
           "#FECB52"
          ],
          "font": {
           "color": "#2a3f5f"
          },
          "geo": {
           "bgcolor": "white",
           "lakecolor": "white",
           "landcolor": "#E5ECF6",
           "showlakes": true,
           "showland": true,
           "subunitcolor": "white"
          },
          "hoverlabel": {
           "align": "left"
          },
          "hovermode": "closest",
          "mapbox": {
           "style": "light"
          },
          "paper_bgcolor": "white",
          "plot_bgcolor": "#E5ECF6",
          "polar": {
           "angularaxis": {
            "gridcolor": "white",
            "linecolor": "white",
            "ticks": ""
           },
           "bgcolor": "#E5ECF6",
           "radialaxis": {
            "gridcolor": "white",
            "linecolor": "white",
            "ticks": ""
           }
          },
          "scene": {
           "xaxis": {
            "backgroundcolor": "#E5ECF6",
            "gridcolor": "white",
            "gridwidth": 2,
            "linecolor": "white",
            "showbackground": true,
            "ticks": "",
            "zerolinecolor": "white"
           },
           "yaxis": {
            "backgroundcolor": "#E5ECF6",
            "gridcolor": "white",
            "gridwidth": 2,
            "linecolor": "white",
            "showbackground": true,
            "ticks": "",
            "zerolinecolor": "white"
           },
           "zaxis": {
            "backgroundcolor": "#E5ECF6",
            "gridcolor": "white",
            "gridwidth": 2,
            "linecolor": "white",
            "showbackground": true,
            "ticks": "",
            "zerolinecolor": "white"
           }
          },
          "shapedefaults": {
           "line": {
            "color": "#2a3f5f"
           }
          },
          "ternary": {
           "aaxis": {
            "gridcolor": "white",
            "linecolor": "white",
            "ticks": ""
           },
           "baxis": {
            "gridcolor": "white",
            "linecolor": "white",
            "ticks": ""
           },
           "bgcolor": "#E5ECF6",
           "caxis": {
            "gridcolor": "white",
            "linecolor": "white",
            "ticks": ""
           }
          },
          "title": {
           "x": 0.05
          },
          "xaxis": {
           "automargin": true,
           "gridcolor": "white",
           "linecolor": "white",
           "ticks": "",
           "title": {
            "standoff": 15
           },
           "zerolinecolor": "white",
           "zerolinewidth": 2
          },
          "yaxis": {
           "automargin": true,
           "gridcolor": "white",
           "linecolor": "white",
           "ticks": "",
           "title": {
            "standoff": 15
           },
           "zerolinecolor": "white",
           "zerolinewidth": 2
          }
         }
        },
        "title": {
         "text": "Distribution of Votes by Political Tendency"
        },
        "xaxis": {
         "anchor": "y",
         "domain": [
          0,
          1
         ],
         "title": {
          "text": "Political Tendency"
         }
        },
        "yaxis": {
         "anchor": "x",
         "domain": [
          0,
          1
         ],
         "title": {
          "text": "Percentage of Votes (%)"
         }
        }
       }
      }
     },
     "metadata": {},
     "output_type": "display_data"
    },
    {
     "data": {
      "application/vnd.plotly.v1+json": {
       "config": {
        "plotlyServerURL": "https://plot.ly"
       },
       "data": [
        {
         "customdata": [
          [
           "Gauche-Radicale"
          ],
          [
           "Gauche"
          ],
          [
           "Centre"
          ],
          [
           "Centre-Droite"
          ],
          [
           "Droite"
          ],
          [
           "Extrême-Droite"
          ],
          [
           "Autres"
          ]
         ],
         "direction": "clockwise",
         "domain": {
          "x": [
           0,
           1
          ],
          "y": [
           0,
           1
          ]
         },
         "hole": 0.5,
         "hovertemplate": "Tendency=%{customdata[0]}<br>Voix=%{value}<extra></extra>",
         "labels": [
          "Gauche-Radicale",
          "Gauche",
          "Centre",
          "Centre-Droite",
          "Droite",
          "Extrême-Droite",
          "Autres"
         ],
         "legendgroup": "",
         "marker": {
          "colors": [
           "#E4572E",
           "#FE4A49",
           "#B1EDE8",
           "#4EA5FF",
           "#207BFF",
           "#053C5E",
           "#773344"
          ]
         },
         "name": "",
         "showlegend": true,
         "sort": false,
         "type": "pie",
         "values": [
          46169,
          7432131,
          177167,
          6571947,
          2575140,
          10150933,
          326227
         ]
        }
       ],
       "layout": {
        "legend": {
         "tracegroupgap": 0
        },
        "template": {
         "data": {
          "bar": [
           {
            "error_x": {
             "color": "#2a3f5f"
            },
            "error_y": {
             "color": "#2a3f5f"
            },
            "marker": {
             "line": {
              "color": "#E5ECF6",
              "width": 0.5
             },
             "pattern": {
              "fillmode": "overlay",
              "size": 10,
              "solidity": 0.2
             }
            },
            "type": "bar"
           }
          ],
          "barpolar": [
           {
            "marker": {
             "line": {
              "color": "#E5ECF6",
              "width": 0.5
             },
             "pattern": {
              "fillmode": "overlay",
              "size": 10,
              "solidity": 0.2
             }
            },
            "type": "barpolar"
           }
          ],
          "carpet": [
           {
            "aaxis": {
             "endlinecolor": "#2a3f5f",
             "gridcolor": "white",
             "linecolor": "white",
             "minorgridcolor": "white",
             "startlinecolor": "#2a3f5f"
            },
            "baxis": {
             "endlinecolor": "#2a3f5f",
             "gridcolor": "white",
             "linecolor": "white",
             "minorgridcolor": "white",
             "startlinecolor": "#2a3f5f"
            },
            "type": "carpet"
           }
          ],
          "choropleth": [
           {
            "colorbar": {
             "outlinewidth": 0,
             "ticks": ""
            },
            "type": "choropleth"
           }
          ],
          "contour": [
           {
            "colorbar": {
             "outlinewidth": 0,
             "ticks": ""
            },
            "colorscale": [
             [
              0,
              "#0d0887"
             ],
             [
              0.1111111111111111,
              "#46039f"
             ],
             [
              0.2222222222222222,
              "#7201a8"
             ],
             [
              0.3333333333333333,
              "#9c179e"
             ],
             [
              0.4444444444444444,
              "#bd3786"
             ],
             [
              0.5555555555555556,
              "#d8576b"
             ],
             [
              0.6666666666666666,
              "#ed7953"
             ],
             [
              0.7777777777777778,
              "#fb9f3a"
             ],
             [
              0.8888888888888888,
              "#fdca26"
             ],
             [
              1,
              "#f0f921"
             ]
            ],
            "type": "contour"
           }
          ],
          "contourcarpet": [
           {
            "colorbar": {
             "outlinewidth": 0,
             "ticks": ""
            },
            "type": "contourcarpet"
           }
          ],
          "heatmap": [
           {
            "colorbar": {
             "outlinewidth": 0,
             "ticks": ""
            },
            "colorscale": [
             [
              0,
              "#0d0887"
             ],
             [
              0.1111111111111111,
              "#46039f"
             ],
             [
              0.2222222222222222,
              "#7201a8"
             ],
             [
              0.3333333333333333,
              "#9c179e"
             ],
             [
              0.4444444444444444,
              "#bd3786"
             ],
             [
              0.5555555555555556,
              "#d8576b"
             ],
             [
              0.6666666666666666,
              "#ed7953"
             ],
             [
              0.7777777777777778,
              "#fb9f3a"
             ],
             [
              0.8888888888888888,
              "#fdca26"
             ],
             [
              1,
              "#f0f921"
             ]
            ],
            "type": "heatmap"
           }
          ],
          "heatmapgl": [
           {
            "colorbar": {
             "outlinewidth": 0,
             "ticks": ""
            },
            "colorscale": [
             [
              0,
              "#0d0887"
             ],
             [
              0.1111111111111111,
              "#46039f"
             ],
             [
              0.2222222222222222,
              "#7201a8"
             ],
             [
              0.3333333333333333,
              "#9c179e"
             ],
             [
              0.4444444444444444,
              "#bd3786"
             ],
             [
              0.5555555555555556,
              "#d8576b"
             ],
             [
              0.6666666666666666,
              "#ed7953"
             ],
             [
              0.7777777777777778,
              "#fb9f3a"
             ],
             [
              0.8888888888888888,
              "#fdca26"
             ],
             [
              1,
              "#f0f921"
             ]
            ],
            "type": "heatmapgl"
           }
          ],
          "histogram": [
           {
            "marker": {
             "pattern": {
              "fillmode": "overlay",
              "size": 10,
              "solidity": 0.2
             }
            },
            "type": "histogram"
           }
          ],
          "histogram2d": [
           {
            "colorbar": {
             "outlinewidth": 0,
             "ticks": ""
            },
            "colorscale": [
             [
              0,
              "#0d0887"
             ],
             [
              0.1111111111111111,
              "#46039f"
             ],
             [
              0.2222222222222222,
              "#7201a8"
             ],
             [
              0.3333333333333333,
              "#9c179e"
             ],
             [
              0.4444444444444444,
              "#bd3786"
             ],
             [
              0.5555555555555556,
              "#d8576b"
             ],
             [
              0.6666666666666666,
              "#ed7953"
             ],
             [
              0.7777777777777778,
              "#fb9f3a"
             ],
             [
              0.8888888888888888,
              "#fdca26"
             ],
             [
              1,
              "#f0f921"
             ]
            ],
            "type": "histogram2d"
           }
          ],
          "histogram2dcontour": [
           {
            "colorbar": {
             "outlinewidth": 0,
             "ticks": ""
            },
            "colorscale": [
             [
              0,
              "#0d0887"
             ],
             [
              0.1111111111111111,
              "#46039f"
             ],
             [
              0.2222222222222222,
              "#7201a8"
             ],
             [
              0.3333333333333333,
              "#9c179e"
             ],
             [
              0.4444444444444444,
              "#bd3786"
             ],
             [
              0.5555555555555556,
              "#d8576b"
             ],
             [
              0.6666666666666666,
              "#ed7953"
             ],
             [
              0.7777777777777778,
              "#fb9f3a"
             ],
             [
              0.8888888888888888,
              "#fdca26"
             ],
             [
              1,
              "#f0f921"
             ]
            ],
            "type": "histogram2dcontour"
           }
          ],
          "mesh3d": [
           {
            "colorbar": {
             "outlinewidth": 0,
             "ticks": ""
            },
            "type": "mesh3d"
           }
          ],
          "parcoords": [
           {
            "line": {
             "colorbar": {
              "outlinewidth": 0,
              "ticks": ""
             }
            },
            "type": "parcoords"
           }
          ],
          "pie": [
           {
            "automargin": true,
            "type": "pie"
           }
          ],
          "scatter": [
           {
            "fillpattern": {
             "fillmode": "overlay",
             "size": 10,
             "solidity": 0.2
            },
            "type": "scatter"
           }
          ],
          "scatter3d": [
           {
            "line": {
             "colorbar": {
              "outlinewidth": 0,
              "ticks": ""
             }
            },
            "marker": {
             "colorbar": {
              "outlinewidth": 0,
              "ticks": ""
             }
            },
            "type": "scatter3d"
           }
          ],
          "scattercarpet": [
           {
            "marker": {
             "colorbar": {
              "outlinewidth": 0,
              "ticks": ""
             }
            },
            "type": "scattercarpet"
           }
          ],
          "scattergeo": [
           {
            "marker": {
             "colorbar": {
              "outlinewidth": 0,
              "ticks": ""
             }
            },
            "type": "scattergeo"
           }
          ],
          "scattergl": [
           {
            "marker": {
             "colorbar": {
              "outlinewidth": 0,
              "ticks": ""
             }
            },
            "type": "scattergl"
           }
          ],
          "scattermapbox": [
           {
            "marker": {
             "colorbar": {
              "outlinewidth": 0,
              "ticks": ""
             }
            },
            "type": "scattermapbox"
           }
          ],
          "scatterpolar": [
           {
            "marker": {
             "colorbar": {
              "outlinewidth": 0,
              "ticks": ""
             }
            },
            "type": "scatterpolar"
           }
          ],
          "scatterpolargl": [
           {
            "marker": {
             "colorbar": {
              "outlinewidth": 0,
              "ticks": ""
             }
            },
            "type": "scatterpolargl"
           }
          ],
          "scatterternary": [
           {
            "marker": {
             "colorbar": {
              "outlinewidth": 0,
              "ticks": ""
             }
            },
            "type": "scatterternary"
           }
          ],
          "surface": [
           {
            "colorbar": {
             "outlinewidth": 0,
             "ticks": ""
            },
            "colorscale": [
             [
              0,
              "#0d0887"
             ],
             [
              0.1111111111111111,
              "#46039f"
             ],
             [
              0.2222222222222222,
              "#7201a8"
             ],
             [
              0.3333333333333333,
              "#9c179e"
             ],
             [
              0.4444444444444444,
              "#bd3786"
             ],
             [
              0.5555555555555556,
              "#d8576b"
             ],
             [
              0.6666666666666666,
              "#ed7953"
             ],
             [
              0.7777777777777778,
              "#fb9f3a"
             ],
             [
              0.8888888888888888,
              "#fdca26"
             ],
             [
              1,
              "#f0f921"
             ]
            ],
            "type": "surface"
           }
          ],
          "table": [
           {
            "cells": {
             "fill": {
              "color": "#EBF0F8"
             },
             "line": {
              "color": "white"
             }
            },
            "header": {
             "fill": {
              "color": "#C8D4E3"
             },
             "line": {
              "color": "white"
             }
            },
            "type": "table"
           }
          ]
         },
         "layout": {
          "annotationdefaults": {
           "arrowcolor": "#2a3f5f",
           "arrowhead": 0,
           "arrowwidth": 1
          },
          "autotypenumbers": "strict",
          "coloraxis": {
           "colorbar": {
            "outlinewidth": 0,
            "ticks": ""
           }
          },
          "colorscale": {
           "diverging": [
            [
             0,
             "#8e0152"
            ],
            [
             0.1,
             "#c51b7d"
            ],
            [
             0.2,
             "#de77ae"
            ],
            [
             0.3,
             "#f1b6da"
            ],
            [
             0.4,
             "#fde0ef"
            ],
            [
             0.5,
             "#f7f7f7"
            ],
            [
             0.6,
             "#e6f5d0"
            ],
            [
             0.7,
             "#b8e186"
            ],
            [
             0.8,
             "#7fbc41"
            ],
            [
             0.9,
             "#4d9221"
            ],
            [
             1,
             "#276419"
            ]
           ],
           "sequential": [
            [
             0,
             "#0d0887"
            ],
            [
             0.1111111111111111,
             "#46039f"
            ],
            [
             0.2222222222222222,
             "#7201a8"
            ],
            [
             0.3333333333333333,
             "#9c179e"
            ],
            [
             0.4444444444444444,
             "#bd3786"
            ],
            [
             0.5555555555555556,
             "#d8576b"
            ],
            [
             0.6666666666666666,
             "#ed7953"
            ],
            [
             0.7777777777777778,
             "#fb9f3a"
            ],
            [
             0.8888888888888888,
             "#fdca26"
            ],
            [
             1,
             "#f0f921"
            ]
           ],
           "sequentialminus": [
            [
             0,
             "#0d0887"
            ],
            [
             0.1111111111111111,
             "#46039f"
            ],
            [
             0.2222222222222222,
             "#7201a8"
            ],
            [
             0.3333333333333333,
             "#9c179e"
            ],
            [
             0.4444444444444444,
             "#bd3786"
            ],
            [
             0.5555555555555556,
             "#d8576b"
            ],
            [
             0.6666666666666666,
             "#ed7953"
            ],
            [
             0.7777777777777778,
             "#fb9f3a"
            ],
            [
             0.8888888888888888,
             "#fdca26"
            ],
            [
             1,
             "#f0f921"
            ]
           ]
          },
          "colorway": [
           "#636efa",
           "#EF553B",
           "#00cc96",
           "#ab63fa",
           "#FFA15A",
           "#19d3f3",
           "#FF6692",
           "#B6E880",
           "#FF97FF",
           "#FECB52"
          ],
          "font": {
           "color": "#2a3f5f"
          },
          "geo": {
           "bgcolor": "white",
           "lakecolor": "white",
           "landcolor": "#E5ECF6",
           "showlakes": true,
           "showland": true,
           "subunitcolor": "white"
          },
          "hoverlabel": {
           "align": "left"
          },
          "hovermode": "closest",
          "mapbox": {
           "style": "light"
          },
          "paper_bgcolor": "white",
          "plot_bgcolor": "#E5ECF6",
          "polar": {
           "angularaxis": {
            "gridcolor": "white",
            "linecolor": "white",
            "ticks": ""
           },
           "bgcolor": "#E5ECF6",
           "radialaxis": {
            "gridcolor": "white",
            "linecolor": "white",
            "ticks": ""
           }
          },
          "scene": {
           "xaxis": {
            "backgroundcolor": "#E5ECF6",
            "gridcolor": "white",
            "gridwidth": 2,
            "linecolor": "white",
            "showbackground": true,
            "ticks": "",
            "zerolinecolor": "white"
           },
           "yaxis": {
            "backgroundcolor": "#E5ECF6",
            "gridcolor": "white",
            "gridwidth": 2,
            "linecolor": "white",
            "showbackground": true,
            "ticks": "",
            "zerolinecolor": "white"
           },
           "zaxis": {
            "backgroundcolor": "#E5ECF6",
            "gridcolor": "white",
            "gridwidth": 2,
            "linecolor": "white",
            "showbackground": true,
            "ticks": "",
            "zerolinecolor": "white"
           }
          },
          "shapedefaults": {
           "line": {
            "color": "#2a3f5f"
           }
          },
          "ternary": {
           "aaxis": {
            "gridcolor": "white",
            "linecolor": "white",
            "ticks": ""
           },
           "baxis": {
            "gridcolor": "white",
            "linecolor": "white",
            "ticks": ""
           },
           "bgcolor": "#E5ECF6",
           "caxis": {
            "gridcolor": "white",
            "linecolor": "white",
            "ticks": ""
           }
          },
          "title": {
           "x": 0.05
          },
          "xaxis": {
           "automargin": true,
           "gridcolor": "white",
           "linecolor": "white",
           "ticks": "",
           "title": {
            "standoff": 15
           },
           "zerolinecolor": "white",
           "zerolinewidth": 2
          },
          "yaxis": {
           "automargin": true,
           "gridcolor": "white",
           "linecolor": "white",
           "ticks": "",
           "title": {
            "standoff": 15
           },
           "zerolinecolor": "white",
           "zerolinewidth": 2
          }
         }
        },
        "title": {
         "text": "Distribution of Political Tendencies"
        }
       }
      }
     },
     "metadata": {},
     "output_type": "display_data"
    }
   ],
   "source": [
    "# plot the number of votes for each political parties with plotly\n",
    "palette_nuances = {\n",
    "                    'Gauche-Radicale': '#E4572E',\n",
    "                    'Gauche': '#FE4A49', \n",
    "                    \"Centre\": \"#B1EDE8\", \n",
    "                    \"Centre-Droite\": \"#4EA5FF\",\n",
    "                    \"Droite\": \"#207BFF\",\n",
    "                    \"Extrême-Droite\": \"#053C5E\",\n",
    "                    \"Autres\": \"#773344\",  \n",
    "                }\n",
    "tendencies_plot_order = ['Gauche-Radicale','Gauche', 'Centre', 'Centre-Droite', 'Droite', 'Extrême-Droite', 'Autres']\n",
    "        \n",
    "\n",
    "# Create the Plotly bar chart \n",
    "fig = px.bar(votes_df,\n",
    "    x='Nuance',                 \n",
    "    y='Voix',             \n",
    "    color='Tendency',\n",
    "    color_discrete_map=palette_nuances,\n",
    "    title=\"Distribution of Votes by Political Tendency\", \n",
    "    labels={'x': 'Political Tendency', 'y': 'Number of Votes'},\n",
    "    category_orders={\"Tendency\": tendencies_plot_order}\n",
    ")\n",
    "\n",
    "fig.update_layout(\n",
    "    xaxis_title=\"Political Tendency\",\n",
    "    yaxis_title=\"Percentage of Votes (%)\",\n",
    "    showlegend=True,\n",
    "    plot_bgcolor='white',\n",
    "    legend_title_text='Tendencies'\n",
    ")\n",
    "\n",
    "fig.update_traces(texttemplate='%{y:.0f}', textposition='outside') \n",
    "fig.show()\n",
    "\n",
    "fig = px.pie(\n",
    "            count_votes_per_tendency, \n",
    "            values='Voix', \n",
    "            names=count_votes_per_tendency.index,\n",
    "            color=count_votes_per_tendency.index,\n",
    "            color_discrete_map=palette_nuances,  \n",
    "            hole=0.5, \n",
    "            title='Distribution of Political Tendencies' ,\n",
    "            category_orders={\"Tendency\": tendencies_plot_order}\n",
    ")\n",
    "fig.show()\n"
   ]
  },
  {
   "cell_type": "code",
   "execution_count": null,
   "metadata": {},
   "outputs": [],
   "source": [
    "fig = px.bar(\n",
    "    count_votes_per_party,\n",
    "    x=count_votes_per_party.index,\n",
    "    y=count_votes_per_party.values,\n",
    "    text=count_votes_per_party.values.round(2),\n",
    "    labels={'x': 'Political Tendency', 'y': 'Percentage of Votes (%)'},\n",
    "    title=\"Vote Percentage by Political Tendency\",\n",
    "\n",
    ")\n",
    "fig.update_traces(texttemplate='%{text:.2f}%', textposition='outside')\n",
    "fig.update_layout(yaxis_ticksuffix=\"%\")\n",
    "st.plotly_chart(fig)\n",
    "\n",
    "# 2. Optional: Pie Chart with Custom Colors and Order\n",
    "fig_pie = px.pie(\n",
    "    values=count_votes_per_party.values,\n",
    "    names=count_votes_per_party.index,\n",
    "    title='Overall Vote Share by Political Tendency',\n",
    "    color_discrete_sequence=list(palette_nuances.values())  # Apply colors to pie slices\n",
    ")\n",
    "st.plotly_chart(fig_pie)"
   ]
  }
 ],
 "metadata": {
  "kernelspec": {
   "display_name": "py_env_analysis",
   "language": "python",
   "name": "python3"
  },
  "language_info": {
   "codemirror_mode": {
    "name": "ipython",
    "version": 3
   },
   "file_extension": ".py",
   "mimetype": "text/x-python",
   "name": "python",
   "nbconvert_exporter": "python",
   "pygments_lexer": "ipython3",
   "version": "3.11.9"
  }
 },
 "nbformat": 4,
 "nbformat_minor": 2
}
